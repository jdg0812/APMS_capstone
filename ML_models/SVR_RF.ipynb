{
 "cells": [
  {
   "cell_type": "code",
   "execution_count": 1,
   "id": "af57c4ee",
   "metadata": {},
   "outputs": [],
   "source": [
    "import pandas as pd\n",
    "import numpy as np\n",
    "\n",
    "#visualsation\n",
    "import matplotlib.pyplot as plt\n",
    "\n",
    "#dividing into train/test\n",
    "from sklearn.model_selection import train_test_split\n",
    "\n",
    "# feature scaling\n",
    "from sklearn.preprocessing import MinMaxScaler\n",
    "from sklearn.preprocessing import StandardScaler\n",
    "\n",
    "#model building\n",
    "from sklearn.ensemble import RandomForestClassifier\n",
    "from sklearn.ensemble import RandomForestRegressor\n",
    "from sklearn.svm import SVR\n",
    "\n",
    "#model evaluation\n",
    "from sklearn.metrics import r2_score, mean_squared_error, mean_absolute_error\n",
    "\n",
    "\n",
    "import joblib\n",
    "\n",
    "\n",
    "from sklearn.pipeline import Pipeline\n",
    "\n",
    "\n",
    "#feature engineering + features selection\n",
    "from sklearn.feature_selection import VarianceThreshold, SelectKBest, mutual_info_regression\n",
    "from sklearn.feature_selection import SelectFromModel\n",
    "\n",
    "from sklearn.base import BaseEstimator, TransformerMixin\n",
    "from sklearn.compose import ColumnTransformer\n",
    "\n",
    "#cross validation\n",
    "from sklearn.model_selection import cross_val_score, KFold\n",
    "from sklearn.model_selection import cross_val_predict"
   ]
  },
  {
   "cell_type": "code",
   "execution_count": 2,
   "id": "af724369",
   "metadata": {},
   "outputs": [],
   "source": [
    " #defining feature names\n",
    "index_names = ['unit_number', 'time_cycles']\n",
    "setting_names = ['setting_1', 'setting_2', 'setting_3']\n",
    "sensor_names = ['s_{}'.format(i+1) for i in range(0,21)]\n",
    "col_names = index_names + setting_names + sensor_names"
   ]
  },
  {
   "cell_type": "code",
   "execution_count": 3,
   "id": "014f3de4",
   "metadata": {},
   "outputs": [],
   "source": [
    "train = pd.read_csv('../backend/CMAPSSData/train_FD001.txt',sep='\\s+',header=None,index_col=False,names=col_names)\n",
    "test = pd.read_csv('../backend/CMAPSSData/test_FD001.txt',sep='\\s+',header=None,index_col=False,names=col_names)\n",
    "rul = pd.read_csv('../backend/CMAPSSDATA/RUL_FD001.txt',sep='\\s+',header=None,index_col=False,names=['RUL'])"
   ]
  },
  {
   "cell_type": "code",
   "execution_count": 4,
   "id": "c602406e",
   "metadata": {},
   "outputs": [],
   "source": [
    "def add_RUL_column(df):\n",
    "    \n",
    "    #get total number of cycles for each unit\n",
    "    train_grouped_by_unit = df.groupby(by='unit_number') \n",
    "    max_time_cycles = train_grouped_by_unit['time_cycles'].max() \n",
    "    \n",
    "    #merge the max cycle back into original frame\n",
    "    merged = df.merge(max_time_cycles.to_frame(name='max_time_cycle'), left_on='unit_number',right_index=True)\n",
    "    \n",
    "    #calculate remaining useful life for each row\n",
    "    merged[\"RUL\"] = merged[\"max_time_cycle\"] - merged['time_cycles']\n",
    "    \n",
    "    #drop max cycle as it's no longer needed\n",
    "    merged = merged.drop(\"max_time_cycle\", axis=1) \n",
    "    return merged"
   ]
  },
  {
   "cell_type": "code",
   "execution_count": 5,
   "id": "d5e616fa",
   "metadata": {},
   "outputs": [
    {
     "name": "stdout",
     "output_type": "stream",
     "text": [
      "   unit_number  time_cycles  setting_1  setting_2  setting_3     s_1     s_2  \\\n",
      "0            1            1    -0.0007    -0.0004      100.0  518.67  641.82   \n",
      "1            1            2     0.0019    -0.0003      100.0  518.67  642.15   \n",
      "2            1            3    -0.0043     0.0003      100.0  518.67  642.35   \n",
      "3            1            4     0.0007     0.0000      100.0  518.67  642.35   \n",
      "4            1            5    -0.0019    -0.0002      100.0  518.67  642.37   \n",
      "\n",
      "       s_3      s_4    s_5  ...     s_13     s_14    s_15  s_16  s_17  s_18  \\\n",
      "0  1589.70  1400.60  14.62  ...  2388.02  8138.62  8.4195  0.03   392  2388   \n",
      "1  1591.82  1403.14  14.62  ...  2388.07  8131.49  8.4318  0.03   392  2388   \n",
      "2  1587.99  1404.20  14.62  ...  2388.03  8133.23  8.4178  0.03   390  2388   \n",
      "3  1582.79  1401.87  14.62  ...  2388.08  8133.83  8.3682  0.03   392  2388   \n",
      "4  1582.85  1406.22  14.62  ...  2388.04  8133.80  8.4294  0.03   393  2388   \n",
      "\n",
      "    s_19   s_20     s_21  RUL  \n",
      "0  100.0  39.06  23.4190  191  \n",
      "1  100.0  39.00  23.4236  190  \n",
      "2  100.0  38.95  23.3442  189  \n",
      "3  100.0  38.88  23.3739  188  \n",
      "4  100.0  38.90  23.4044  187  \n",
      "\n",
      "[5 rows x 27 columns]\n"
     ]
    }
   ],
   "source": [
    "train = add_RUL_column(train)\n",
    "print(train.head())"
   ]
  },
  {
   "cell_type": "code",
   "execution_count": 6,
   "id": "900c843f",
   "metadata": {},
   "outputs": [
    {
     "data": {
      "text/plain": [
       "{'s_1': '(Fan inlet temperature) (◦R)',\n",
       " 's_2': '(LPC outlet temperature) (◦R)',\n",
       " 's_3': '(HPC outlet temperature) (◦R)',\n",
       " 's_4': '(LPT outlet temperature) (◦R)',\n",
       " 's_5': '(Fan inlet Pressure) (psia)',\n",
       " 's_6': '(bypass-duct pressure) (psia)',\n",
       " 's_7': '(HPC outlet pressure) (psia)',\n",
       " 's_8': '(Physical fan speed) (rpm)',\n",
       " 's_9': '(Physical core speed) (rpm)',\n",
       " 's_10': '(Engine pressure ratio(P50/P2)',\n",
       " 's_11': '(HPC outlet Static pressure) (psia)',\n",
       " 's_12': '(Ratio of fuel flow to Ps30) (pps/psia)',\n",
       " 's_13': '(Corrected fan speed) (rpm)',\n",
       " 's_14': '(Corrected core speed) (rpm)',\n",
       " 's_15': '(Bypass Ratio) ',\n",
       " 's_16': '(Burner fuel-air ratio)',\n",
       " 's_17': '(Bleed Enthalpy)',\n",
       " 's_18': '(Required fan speed)',\n",
       " 's_19': '(Required fan conversion speed)',\n",
       " 's_20': '(High-pressure turbines Cool air flow)',\n",
       " 's_21': '(Low-pressure turbines Cool air flow)'}"
      ]
     },
     "execution_count": 6,
     "metadata": {},
     "output_type": "execute_result"
    }
   ],
   "source": [
    "Sensor_dictionary={}\n",
    "dict_list=[ \"(Fan inlet temperature) (◦R)\",\n",
    "\"(LPC outlet temperature) (◦R)\",\n",
    "\"(HPC outlet temperature) (◦R)\",\n",
    "\"(LPT outlet temperature) (◦R)\",\n",
    "\"(Fan inlet Pressure) (psia)\",\n",
    "\"(bypass-duct pressure) (psia)\",\n",
    "\"(HPC outlet pressure) (psia)\",\n",
    "\"(Physical fan speed) (rpm)\",\n",
    "\"(Physical core speed) (rpm)\",\n",
    "\"(Engine pressure ratio(P50/P2)\",\n",
    "\"(HPC outlet Static pressure) (psia)\",\n",
    "\"(Ratio of fuel flow to Ps30) (pps/psia)\",\n",
    "\"(Corrected fan speed) (rpm)\",\n",
    "\"(Corrected core speed) (rpm)\",\n",
    "\"(Bypass Ratio) \",\n",
    "\"(Burner fuel-air ratio)\",\n",
    "\"(Bleed Enthalpy)\",\n",
    "\"(Required fan speed)\",\n",
    "\"(Required fan conversion speed)\",\n",
    "\"(High-pressure turbines Cool air flow)\",\n",
    "\"(Low-pressure turbines Cool air flow)\" ]\n",
    "i=1\n",
    "for x in dict_list :\n",
    "    Sensor_dictionary['s_'+str(i)]=x\n",
    "    i+=1\n",
    "Sensor_dictionary"
   ]
  },
  {
   "cell_type": "markdown",
   "id": "05b3dd94",
   "metadata": {},
   "source": [
    "<h2> Understanding the dataset </h2>"
   ]
  },
  {
   "cell_type": "code",
   "execution_count": 7,
   "id": "b4959ea6",
   "metadata": {},
   "outputs": [
    {
     "data": {
      "text/html": [
       "<div>\n",
       "<style scoped>\n",
       "    .dataframe tbody tr th:only-of-type {\n",
       "        vertical-align: middle;\n",
       "    }\n",
       "\n",
       "    .dataframe tbody tr th {\n",
       "        vertical-align: top;\n",
       "    }\n",
       "\n",
       "    .dataframe thead th {\n",
       "        text-align: right;\n",
       "    }\n",
       "</style>\n",
       "<table border=\"1\" class=\"dataframe\">\n",
       "  <thead>\n",
       "    <tr style=\"text-align: right;\">\n",
       "      <th></th>\n",
       "      <th>count</th>\n",
       "      <th>mean</th>\n",
       "      <th>std</th>\n",
       "      <th>min</th>\n",
       "      <th>25%</th>\n",
       "      <th>50%</th>\n",
       "      <th>75%</th>\n",
       "      <th>max</th>\n",
       "    </tr>\n",
       "  </thead>\n",
       "  <tbody>\n",
       "    <tr>\n",
       "      <th>s_1</th>\n",
       "      <td>20631.0</td>\n",
       "      <td>518.670000</td>\n",
       "      <td>6.537152e-11</td>\n",
       "      <td>518.6700</td>\n",
       "      <td>518.6700</td>\n",
       "      <td>518.6700</td>\n",
       "      <td>518.6700</td>\n",
       "      <td>518.6700</td>\n",
       "    </tr>\n",
       "    <tr>\n",
       "      <th>s_2</th>\n",
       "      <td>20631.0</td>\n",
       "      <td>642.680934</td>\n",
       "      <td>5.000533e-01</td>\n",
       "      <td>641.2100</td>\n",
       "      <td>642.3250</td>\n",
       "      <td>642.6400</td>\n",
       "      <td>643.0000</td>\n",
       "      <td>644.5300</td>\n",
       "    </tr>\n",
       "    <tr>\n",
       "      <th>s_3</th>\n",
       "      <td>20631.0</td>\n",
       "      <td>1590.523119</td>\n",
       "      <td>6.131150e+00</td>\n",
       "      <td>1571.0400</td>\n",
       "      <td>1586.2600</td>\n",
       "      <td>1590.1000</td>\n",
       "      <td>1594.3800</td>\n",
       "      <td>1616.9100</td>\n",
       "    </tr>\n",
       "    <tr>\n",
       "      <th>s_4</th>\n",
       "      <td>20631.0</td>\n",
       "      <td>1408.933782</td>\n",
       "      <td>9.000605e+00</td>\n",
       "      <td>1382.2500</td>\n",
       "      <td>1402.3600</td>\n",
       "      <td>1408.0400</td>\n",
       "      <td>1414.5550</td>\n",
       "      <td>1441.4900</td>\n",
       "    </tr>\n",
       "    <tr>\n",
       "      <th>s_5</th>\n",
       "      <td>20631.0</td>\n",
       "      <td>14.620000</td>\n",
       "      <td>3.394700e-12</td>\n",
       "      <td>14.6200</td>\n",
       "      <td>14.6200</td>\n",
       "      <td>14.6200</td>\n",
       "      <td>14.6200</td>\n",
       "      <td>14.6200</td>\n",
       "    </tr>\n",
       "    <tr>\n",
       "      <th>s_6</th>\n",
       "      <td>20631.0</td>\n",
       "      <td>21.609803</td>\n",
       "      <td>1.388985e-03</td>\n",
       "      <td>21.6000</td>\n",
       "      <td>21.6100</td>\n",
       "      <td>21.6100</td>\n",
       "      <td>21.6100</td>\n",
       "      <td>21.6100</td>\n",
       "    </tr>\n",
       "    <tr>\n",
       "      <th>s_7</th>\n",
       "      <td>20631.0</td>\n",
       "      <td>553.367711</td>\n",
       "      <td>8.850923e-01</td>\n",
       "      <td>549.8500</td>\n",
       "      <td>552.8100</td>\n",
       "      <td>553.4400</td>\n",
       "      <td>554.0100</td>\n",
       "      <td>556.0600</td>\n",
       "    </tr>\n",
       "    <tr>\n",
       "      <th>s_8</th>\n",
       "      <td>20631.0</td>\n",
       "      <td>2388.096652</td>\n",
       "      <td>7.098548e-02</td>\n",
       "      <td>2387.9000</td>\n",
       "      <td>2388.0500</td>\n",
       "      <td>2388.0900</td>\n",
       "      <td>2388.1400</td>\n",
       "      <td>2388.5600</td>\n",
       "    </tr>\n",
       "    <tr>\n",
       "      <th>s_9</th>\n",
       "      <td>20631.0</td>\n",
       "      <td>9065.242941</td>\n",
       "      <td>2.208288e+01</td>\n",
       "      <td>9021.7300</td>\n",
       "      <td>9053.1000</td>\n",
       "      <td>9060.6600</td>\n",
       "      <td>9069.4200</td>\n",
       "      <td>9244.5900</td>\n",
       "    </tr>\n",
       "    <tr>\n",
       "      <th>s_10</th>\n",
       "      <td>20631.0</td>\n",
       "      <td>1.300000</td>\n",
       "      <td>4.660829e-13</td>\n",
       "      <td>1.3000</td>\n",
       "      <td>1.3000</td>\n",
       "      <td>1.3000</td>\n",
       "      <td>1.3000</td>\n",
       "      <td>1.3000</td>\n",
       "    </tr>\n",
       "    <tr>\n",
       "      <th>s_11</th>\n",
       "      <td>20631.0</td>\n",
       "      <td>47.541168</td>\n",
       "      <td>2.670874e-01</td>\n",
       "      <td>46.8500</td>\n",
       "      <td>47.3500</td>\n",
       "      <td>47.5100</td>\n",
       "      <td>47.7000</td>\n",
       "      <td>48.5300</td>\n",
       "    </tr>\n",
       "    <tr>\n",
       "      <th>s_12</th>\n",
       "      <td>20631.0</td>\n",
       "      <td>521.413470</td>\n",
       "      <td>7.375534e-01</td>\n",
       "      <td>518.6900</td>\n",
       "      <td>520.9600</td>\n",
       "      <td>521.4800</td>\n",
       "      <td>521.9500</td>\n",
       "      <td>523.3800</td>\n",
       "    </tr>\n",
       "    <tr>\n",
       "      <th>s_13</th>\n",
       "      <td>20631.0</td>\n",
       "      <td>2388.096152</td>\n",
       "      <td>7.191892e-02</td>\n",
       "      <td>2387.8800</td>\n",
       "      <td>2388.0400</td>\n",
       "      <td>2388.0900</td>\n",
       "      <td>2388.1400</td>\n",
       "      <td>2388.5600</td>\n",
       "    </tr>\n",
       "    <tr>\n",
       "      <th>s_14</th>\n",
       "      <td>20631.0</td>\n",
       "      <td>8143.752722</td>\n",
       "      <td>1.907618e+01</td>\n",
       "      <td>8099.9400</td>\n",
       "      <td>8133.2450</td>\n",
       "      <td>8140.5400</td>\n",
       "      <td>8148.3100</td>\n",
       "      <td>8293.7200</td>\n",
       "    </tr>\n",
       "    <tr>\n",
       "      <th>s_15</th>\n",
       "      <td>20631.0</td>\n",
       "      <td>8.442146</td>\n",
       "      <td>3.750504e-02</td>\n",
       "      <td>8.3249</td>\n",
       "      <td>8.4149</td>\n",
       "      <td>8.4389</td>\n",
       "      <td>8.4656</td>\n",
       "      <td>8.5848</td>\n",
       "    </tr>\n",
       "    <tr>\n",
       "      <th>s_16</th>\n",
       "      <td>20631.0</td>\n",
       "      <td>0.030000</td>\n",
       "      <td>1.556432e-14</td>\n",
       "      <td>0.0300</td>\n",
       "      <td>0.0300</td>\n",
       "      <td>0.0300</td>\n",
       "      <td>0.0300</td>\n",
       "      <td>0.0300</td>\n",
       "    </tr>\n",
       "    <tr>\n",
       "      <th>s_17</th>\n",
       "      <td>20631.0</td>\n",
       "      <td>393.210654</td>\n",
       "      <td>1.548763e+00</td>\n",
       "      <td>388.0000</td>\n",
       "      <td>392.0000</td>\n",
       "      <td>393.0000</td>\n",
       "      <td>394.0000</td>\n",
       "      <td>400.0000</td>\n",
       "    </tr>\n",
       "    <tr>\n",
       "      <th>s_18</th>\n",
       "      <td>20631.0</td>\n",
       "      <td>2388.000000</td>\n",
       "      <td>0.000000e+00</td>\n",
       "      <td>2388.0000</td>\n",
       "      <td>2388.0000</td>\n",
       "      <td>2388.0000</td>\n",
       "      <td>2388.0000</td>\n",
       "      <td>2388.0000</td>\n",
       "    </tr>\n",
       "    <tr>\n",
       "      <th>s_19</th>\n",
       "      <td>20631.0</td>\n",
       "      <td>100.000000</td>\n",
       "      <td>0.000000e+00</td>\n",
       "      <td>100.0000</td>\n",
       "      <td>100.0000</td>\n",
       "      <td>100.0000</td>\n",
       "      <td>100.0000</td>\n",
       "      <td>100.0000</td>\n",
       "    </tr>\n",
       "    <tr>\n",
       "      <th>s_20</th>\n",
       "      <td>20631.0</td>\n",
       "      <td>38.816271</td>\n",
       "      <td>1.807464e-01</td>\n",
       "      <td>38.1400</td>\n",
       "      <td>38.7000</td>\n",
       "      <td>38.8300</td>\n",
       "      <td>38.9500</td>\n",
       "      <td>39.4300</td>\n",
       "    </tr>\n",
       "    <tr>\n",
       "      <th>s_21</th>\n",
       "      <td>20631.0</td>\n",
       "      <td>23.289705</td>\n",
       "      <td>1.082509e-01</td>\n",
       "      <td>22.8942</td>\n",
       "      <td>23.2218</td>\n",
       "      <td>23.2979</td>\n",
       "      <td>23.3668</td>\n",
       "      <td>23.6184</td>\n",
       "    </tr>\n",
       "    <tr>\n",
       "      <th>RUL</th>\n",
       "      <td>20631.0</td>\n",
       "      <td>107.807862</td>\n",
       "      <td>6.888099e+01</td>\n",
       "      <td>0.0000</td>\n",
       "      <td>51.0000</td>\n",
       "      <td>103.0000</td>\n",
       "      <td>155.0000</td>\n",
       "      <td>361.0000</td>\n",
       "    </tr>\n",
       "  </tbody>\n",
       "</table>\n",
       "</div>"
      ],
      "text/plain": [
       "        count         mean           std        min        25%        50%  \\\n",
       "s_1   20631.0   518.670000  6.537152e-11   518.6700   518.6700   518.6700   \n",
       "s_2   20631.0   642.680934  5.000533e-01   641.2100   642.3250   642.6400   \n",
       "s_3   20631.0  1590.523119  6.131150e+00  1571.0400  1586.2600  1590.1000   \n",
       "s_4   20631.0  1408.933782  9.000605e+00  1382.2500  1402.3600  1408.0400   \n",
       "s_5   20631.0    14.620000  3.394700e-12    14.6200    14.6200    14.6200   \n",
       "s_6   20631.0    21.609803  1.388985e-03    21.6000    21.6100    21.6100   \n",
       "s_7   20631.0   553.367711  8.850923e-01   549.8500   552.8100   553.4400   \n",
       "s_8   20631.0  2388.096652  7.098548e-02  2387.9000  2388.0500  2388.0900   \n",
       "s_9   20631.0  9065.242941  2.208288e+01  9021.7300  9053.1000  9060.6600   \n",
       "s_10  20631.0     1.300000  4.660829e-13     1.3000     1.3000     1.3000   \n",
       "s_11  20631.0    47.541168  2.670874e-01    46.8500    47.3500    47.5100   \n",
       "s_12  20631.0   521.413470  7.375534e-01   518.6900   520.9600   521.4800   \n",
       "s_13  20631.0  2388.096152  7.191892e-02  2387.8800  2388.0400  2388.0900   \n",
       "s_14  20631.0  8143.752722  1.907618e+01  8099.9400  8133.2450  8140.5400   \n",
       "s_15  20631.0     8.442146  3.750504e-02     8.3249     8.4149     8.4389   \n",
       "s_16  20631.0     0.030000  1.556432e-14     0.0300     0.0300     0.0300   \n",
       "s_17  20631.0   393.210654  1.548763e+00   388.0000   392.0000   393.0000   \n",
       "s_18  20631.0  2388.000000  0.000000e+00  2388.0000  2388.0000  2388.0000   \n",
       "s_19  20631.0   100.000000  0.000000e+00   100.0000   100.0000   100.0000   \n",
       "s_20  20631.0    38.816271  1.807464e-01    38.1400    38.7000    38.8300   \n",
       "s_21  20631.0    23.289705  1.082509e-01    22.8942    23.2218    23.2979   \n",
       "RUL   20631.0   107.807862  6.888099e+01     0.0000    51.0000   103.0000   \n",
       "\n",
       "            75%        max  \n",
       "s_1    518.6700   518.6700  \n",
       "s_2    643.0000   644.5300  \n",
       "s_3   1594.3800  1616.9100  \n",
       "s_4   1414.5550  1441.4900  \n",
       "s_5     14.6200    14.6200  \n",
       "s_6     21.6100    21.6100  \n",
       "s_7    554.0100   556.0600  \n",
       "s_8   2388.1400  2388.5600  \n",
       "s_9   9069.4200  9244.5900  \n",
       "s_10     1.3000     1.3000  \n",
       "s_11    47.7000    48.5300  \n",
       "s_12   521.9500   523.3800  \n",
       "s_13  2388.1400  2388.5600  \n",
       "s_14  8148.3100  8293.7200  \n",
       "s_15     8.4656     8.5848  \n",
       "s_16     0.0300     0.0300  \n",
       "s_17   394.0000   400.0000  \n",
       "s_18  2388.0000  2388.0000  \n",
       "s_19   100.0000   100.0000  \n",
       "s_20    38.9500    39.4300  \n",
       "s_21    23.3668    23.6184  \n",
       "RUL    155.0000   361.0000  "
      ]
     },
     "execution_count": 7,
     "metadata": {},
     "output_type": "execute_result"
    }
   ],
   "source": [
    "train.loc[:,'s_1':].describe().transpose()"
   ]
  },
  {
   "cell_type": "code",
   "execution_count": 8,
   "id": "cb9aed1b",
   "metadata": {},
   "outputs": [
    {
     "data": {
      "text/plain": [
       "Text(0, 0.5, 'Remaining Useful Life (RUL)')"
      ]
     },
     "execution_count": 8,
     "metadata": {},
     "output_type": "execute_result"
    },
    {
     "data": {
      "image/png": "[encoded data removed]",
      "text/plain": [
       "<Figure size 640x480 with 1 Axes>"
      ]
     },
     "metadata": {},
     "output_type": "display_data"
    }
   ],
   "source": [
    "train_unit1 = train\n",
    "plt.plot(train_unit1['time_cycles'], train_unit1['RUL'])\n",
    "plt.ylabel('Remaining Useful Life (RUL)')\n",
    "#test.groupby('unit_number').last().reset_index().drop(columns=drop_labels)\n",
    "\n",
    "#print(train_unit1)\n",
    "#plt.plot(rul_by_unit['time_cycles'],rul_by_unit['RUL'])"
   ]
  },
  {
   "cell_type": "code",
   "execution_count": 9,
   "id": "2836de4e",
   "metadata": {},
   "outputs": [
    {
     "name": "stdout",
     "output_type": "stream",
     "text": [
      "          s_1     s_2      s_3      s_4    s_5    s_6     s_7      s_8  \\\n",
      "13175  518.67  642.22  1586.82  1402.28  14.62  21.61  553.20  2388.07   \n",
      "1700   518.67  643.68  1597.92  1429.13  14.62  21.61  551.70  2388.20   \n",
      "19098  518.67  642.35  1581.19  1409.49  14.62  21.61  553.44  2388.12   \n",
      "18053  518.67  641.81  1579.99  1396.67  14.62  21.61  554.07  2388.05   \n",
      "6376   518.67  643.06  1600.69  1417.16  14.62  21.61  552.29  2388.14   \n",
      "...       ...     ...      ...      ...    ...    ...     ...      ...   \n",
      "13123  518.67  642.08  1591.25  1395.19  14.62  21.61  554.75  2388.07   \n",
      "19648  518.67  642.99  1587.87  1404.63  14.62  21.61  554.42  2388.08   \n",
      "9845   518.67  642.90  1596.24  1410.80  14.62  21.61  552.80  2388.09   \n",
      "10799  518.67  642.10  1595.20  1401.58  14.62  21.61  553.31  2388.12   \n",
      "2732   518.67  642.63  1589.49  1412.80  14.62  21.61  553.67  2388.08   \n",
      "\n",
      "           s_9  s_10  ...    s_12     s_13     s_14    s_15  s_16  s_17  s_18  \\\n",
      "13175  9069.00   1.3  ...  521.75  2388.04  8147.13  8.4153  0.03   392  2388   \n",
      "1700   9052.44   1.3  ...  519.97  2388.18  8121.42  8.5054  0.03   396  2388   \n",
      "19098  9046.98   1.3  ...  521.39  2388.16  8126.88  8.4290  0.03   392  2388   \n",
      "18053  9049.61   1.3  ...  522.39  2388.02  8133.29  8.4157  0.03   393  2388   \n",
      "6376   9064.17   1.3  ...  520.74  2388.11  8145.43  8.4965  0.03   395  2388   \n",
      "...        ...   ...  ...     ...      ...      ...     ...   ...   ...   ...   \n",
      "13123  9067.98   1.3  ...  521.90  2388.06  8142.97  8.4489  0.03   392  2388   \n",
      "19648  9046.24   1.3  ...  521.94  2388.07  8134.43  8.4208  0.03   394  2388   \n",
      "9845   9073.29   1.3  ...  521.08  2388.15  8152.20  8.4656  0.03   393  2388   \n",
      "10799  9044.03   1.3  ...  521.45  2388.09  8133.91  8.4336  0.03   392  2388   \n",
      "2732   9064.67   1.3  ...  521.67  2388.09  8138.32  8.4272  0.03   394  2388   \n",
      "\n",
      "        s_19   s_20     s_21  \n",
      "13175  100.0  38.91  23.2453  \n",
      "1700   100.0  38.43  23.1086  \n",
      "19098  100.0  38.77  23.3332  \n",
      "18053  100.0  39.08  23.4287  \n",
      "6376   100.0  38.65  23.1552  \n",
      "...      ...    ...      ...  \n",
      "13123  100.0  39.04  23.3165  \n",
      "19648  100.0  39.01  23.3831  \n",
      "9845   100.0  38.81  23.2899  \n",
      "10799  100.0  38.88  23.1794  \n",
      "2732   100.0  38.92  23.2356  \n",
      "\n",
      "[14441 rows x 21 columns]\n"
     ]
    }
   ],
   "source": [
    "drop_labels = index_names+setting_names\n",
    "X_train=train.drop(columns=drop_labels).copy()\n",
    "X_train, X_test, y_train, y_test=train_test_split(\n",
    "    X_train.drop('RUL', axis=1), #predictor\n",
    "    X_train['RUL'], #target\n",
    "    test_size=0.3, #split\n",
    "    random_state=0) #set seed for reproducibility\n",
    "print(X_train)"
   ]
  },
  {
   "cell_type": "markdown",
   "id": "bbecbe99",
   "metadata": {},
   "source": [
    "<h1> Building The Pipeline </h1> "
   ]
  },
  {
   "cell_type": "code",
   "execution_count": null,
   "id": "13c7494d",
   "metadata": {},
   "outputs": [],
   "source": []
  },
  {
   "cell_type": "code",
   "execution_count": 10,
   "id": "bdbc58d9",
   "metadata": {},
   "outputs": [],
   "source": [
    "feature_sel_rf = RandomForestRegressor(n_estimators=100, random_state=0)\n",
    "sfm = SelectFromModel(feature_sel_rf, threshold='median')"
   ]
  },
  {
   "cell_type": "code",
   "execution_count": 12,
   "id": "a5a7509e",
   "metadata": {},
   "outputs": [],
   "source": [
    "rf_fs_pipe = Pipeline([\n",
    "    ('scaler', StandardScaler()),\n",
    "    ('sfm', sfm), \n",
    "    ('SVR', SVR(kernel = 'rbf')),\n",
    "])"
   ]
  },
  {
   "cell_type": "code",
   "execution_count": 13,
   "id": "c47fabce",
   "metadata": {},
   "outputs": [
    {
     "data": {
      "text/html": [
       "<style>#sk-container-id-1 {color: black;}#sk-container-id-1 pre{padding: 0;}#sk-container-id-1 div.sk-toggleable {background-color: white;}#sk-container-id-1 label.sk-toggleable__label {cursor: pointer;display: block;width: 100%;margin-bottom: 0;padding: 0.3em;box-sizing: border-box;text-align: center;}#sk-container-id-1 label.sk-toggleable__label-arrow:before {content: \"▸\";float: left;margin-right: 0.25em;color: #696969;}#sk-container-id-1 label.sk-toggleable__label-arrow:hover:before {color: black;}#sk-container-id-1 div.sk-estimator:hover label.sk-toggleable__label-arrow:before {color: black;}#sk-container-id-1 div.sk-toggleable__content {max-height: 0;max-width: 0;overflow: hidden;text-align: left;background-color: #f0f8ff;}#sk-container-id-1 div.sk-toggleable__content pre {margin: 0.2em;color: black;border-radius: 0.25em;background-color: #f0f8ff;}#sk-container-id-1 input.sk-toggleable__control:checked~div.sk-toggleable__content {max-height: 200px;max-width: 100%;overflow: auto;}#sk-container-id-1 input.sk-toggleable__control:checked~label.sk-toggleable__label-arrow:before {content: \"▾\";}#sk-container-id-1 div.sk-estimator input.sk-toggleable__control:checked~label.sk-toggleable__label {background-color: #d4ebff;}#sk-container-id-1 div.sk-label input.sk-toggleable__control:checked~label.sk-toggleable__label {background-color: #d4ebff;}#sk-container-id-1 input.sk-hidden--visually {border: 0;clip: rect(1px 1px 1px 1px);clip: rect(1px, 1px, 1px, 1px);height: 1px;margin: -1px;overflow: hidden;padding: 0;position: absolute;width: 1px;}#sk-container-id-1 div.sk-estimator {font-family: monospace;background-color: #f0f8ff;border: 1px dotted black;border-radius: 0.25em;box-sizing: border-box;margin-bottom: 0.5em;}#sk-container-id-1 div.sk-estimator:hover {background-color: #d4ebff;}#sk-container-id-1 div.sk-parallel-item::after {content: \"\";width: 100%;border-bottom: 1px solid gray;flex-grow: 1;}#sk-container-id-1 div.sk-label:hover label.sk-toggleable__label {background-color: #d4ebff;}#sk-container-id-1 div.sk-serial::before {content: \"\";position: absolute;border-left: 1px solid gray;box-sizing: border-box;top: 0;bottom: 0;left: 50%;z-index: 0;}#sk-container-id-1 div.sk-serial {display: flex;flex-direction: column;align-items: center;background-color: white;padding-right: 0.2em;padding-left: 0.2em;position: relative;}#sk-container-id-1 div.sk-item {position: relative;z-index: 1;}#sk-container-id-1 div.sk-parallel {display: flex;align-items: stretch;justify-content: center;background-color: white;position: relative;}#sk-container-id-1 div.sk-item::before, #sk-container-id-1 div.sk-parallel-item::before {content: \"\";position: absolute;border-left: 1px solid gray;box-sizing: border-box;top: 0;bottom: 0;left: 50%;z-index: -1;}#sk-container-id-1 div.sk-parallel-item {display: flex;flex-direction: column;z-index: 1;position: relative;background-color: white;}#sk-container-id-1 div.sk-parallel-item:first-child::after {align-self: flex-end;width: 50%;}#sk-container-id-1 div.sk-parallel-item:last-child::after {align-self: flex-start;width: 50%;}#sk-container-id-1 div.sk-parallel-item:only-child::after {width: 0;}#sk-container-id-1 div.sk-dashed-wrapped {border: 1px dashed gray;margin: 0 0.4em 0.5em 0.4em;box-sizing: border-box;padding-bottom: 0.4em;background-color: white;}#sk-container-id-1 div.sk-label label {font-family: monospace;font-weight: bold;display: inline-block;line-height: 1.2em;}#sk-container-id-1 div.sk-label-container {text-align: center;}#sk-container-id-1 div.sk-container {/* jupyter's `normalize.less` sets `[hidden] { display: none; }` but bootstrap.min.css set `[hidden] { display: none !important; }` so we also need the `!important` here to be able to override the default hidden behavior on the sphinx rendered scikit-learn.org. See: https://github.com/scikit-learn/scikit-learn/issues/21755 */display: inline-block !important;position: relative;}#sk-container-id-1 div.sk-text-repr-fallback {display: none;}</style><div id=\"sk-container-id-1\" class=\"sk-top-container\"><div class=\"sk-text-repr-fallback\"><pre>Pipeline(steps=[(&#x27;scaler&#x27;, StandardScaler()),\n",
       "                (&#x27;sfm&#x27;,\n",
       "                 SelectFromModel(estimator=RandomForestRegressor(random_state=0),\n",
       "                                 threshold=&#x27;median&#x27;)),\n",
       "                (&#x27;SVR&#x27;, SVR())])</pre><b>In a Jupyter environment, please rerun this cell to show the HTML representation or trust the notebook. <br />On GitHub, the HTML representation is unable to render, please try loading this page with nbviewer.org.</b></div><div class=\"sk-container\" hidden><div class=\"sk-item sk-dashed-wrapped\"><div class=\"sk-label-container\"><div class=\"sk-label sk-toggleable\"><input class=\"sk-toggleable__control sk-hidden--visually\" id=\"sk-estimator-id-1\" type=\"checkbox\" ><label for=\"sk-estimator-id-1\" class=\"sk-toggleable__label sk-toggleable__label-arrow\">Pipeline</label><div class=\"sk-toggleable__content\"><pre>Pipeline(steps=[(&#x27;scaler&#x27;, StandardScaler()),\n",
       "                (&#x27;sfm&#x27;,\n",
       "                 SelectFromModel(estimator=RandomForestRegressor(random_state=0),\n",
       "                                 threshold=&#x27;median&#x27;)),\n",
       "                (&#x27;SVR&#x27;, SVR())])</pre></div></div></div><div class=\"sk-serial\"><div class=\"sk-item\"><div class=\"sk-estimator sk-toggleable\"><input class=\"sk-toggleable__control sk-hidden--visually\" id=\"sk-estimator-id-2\" type=\"checkbox\" ><label for=\"sk-estimator-id-2\" class=\"sk-toggleable__label sk-toggleable__label-arrow\">StandardScaler</label><div class=\"sk-toggleable__content\"><pre>StandardScaler()</pre></div></div></div><div class=\"sk-item sk-dashed-wrapped\"><div class=\"sk-label-container\"><div class=\"sk-label sk-toggleable\"><input class=\"sk-toggleable__control sk-hidden--visually\" id=\"sk-estimator-id-3\" type=\"checkbox\" ><label for=\"sk-estimator-id-3\" class=\"sk-toggleable__label sk-toggleable__label-arrow\">sfm: SelectFromModel</label><div class=\"sk-toggleable__content\"><pre>SelectFromModel(estimator=RandomForestRegressor(random_state=0),\n",
       "                threshold=&#x27;median&#x27;)</pre></div></div></div><div class=\"sk-parallel\"><div class=\"sk-parallel-item\"><div class=\"sk-item\"><div class=\"sk-label-container\"><div class=\"sk-label sk-toggleable\"><input class=\"sk-toggleable__control sk-hidden--visually\" id=\"sk-estimator-id-4\" type=\"checkbox\" ><label for=\"sk-estimator-id-4\" class=\"sk-toggleable__label sk-toggleable__label-arrow\">estimator: RandomForestRegressor</label><div class=\"sk-toggleable__content\"><pre>RandomForestRegressor(random_state=0)</pre></div></div></div><div class=\"sk-serial\"><div class=\"sk-item\"><div class=\"sk-estimator sk-toggleable\"><input class=\"sk-toggleable__control sk-hidden--visually\" id=\"sk-estimator-id-5\" type=\"checkbox\" ><label for=\"sk-estimator-id-5\" class=\"sk-toggleable__label sk-toggleable__label-arrow\">RandomForestRegressor</label><div class=\"sk-toggleable__content\"><pre>RandomForestRegressor(random_state=0)</pre></div></div></div></div></div></div></div></div><div class=\"sk-item\"><div class=\"sk-estimator sk-toggleable\"><input class=\"sk-toggleable__control sk-hidden--visually\" id=\"sk-estimator-id-6\" type=\"checkbox\" ><label for=\"sk-estimator-id-6\" class=\"sk-toggleable__label sk-toggleable__label-arrow\">SVR</label><div class=\"sk-toggleable__content\"><pre>SVR()</pre></div></div></div></div></div></div></div>"
      ],
      "text/plain": [
       "Pipeline(steps=[('scaler', StandardScaler()),\n",
       "                ('sfm',\n",
       "                 SelectFromModel(estimator=RandomForestRegressor(random_state=0),\n",
       "                                 threshold='median')),\n",
       "                ('SVR', SVR())])"
      ]
     },
     "execution_count": 13,
     "metadata": {},
     "output_type": "execute_result"
    }
   ],
   "source": [
    "rf_fs_pipe.fit(X_train,y_train)"
   ]
  },
  {
   "cell_type": "code",
   "execution_count": 14,
   "id": "f236732c",
   "metadata": {},
   "outputs": [
    {
     "name": "stdout",
     "output_type": "stream",
     "text": [
      "Selected Features:\n",
      "Index(['s_2', 's_3', 's_4', 's_7', 's_9', 's_11', 's_12', 's_14', 's_15',\n",
      "       's_20', 's_21'],\n",
      "      dtype='object')\n"
     ]
    }
   ],
   "source": [
    "selected_features = X_train.columns[sfm.get_support()]\n",
    "print(\"Selected Features:\")\n",
    "print(selected_features)"
   ]
  },
  {
   "cell_type": "code",
   "execution_count": 15,
   "id": "2949a45a",
   "metadata": {},
   "outputs": [],
   "source": [
    "def evaluate(y_true, y_hat, label='test'):\n",
    "    mse = mean_squared_error(y_true, y_hat)\n",
    "    rmse = np.sqrt(mse)\n",
    "    mae = mean_absolute_error(y_true, y_hat)\n",
    "    variance = r2_score(y_true, y_hat)\n",
    "    print('{} set RMSE:{}, R2:{}, MAE:{}'.format(label, rmse, variance, mae))"
   ]
  },
  {
   "cell_type": "code",
   "execution_count": 16,
   "id": "02b88d6d",
   "metadata": {},
   "outputs": [
    {
     "name": "stdout",
     "output_type": "stream",
     "text": [
      "train set RMSE:42.48151569507344, R2:0.6224869024916168, MAE:29.569826159857094\n",
      "test set RMSE:42.069734107538345, R2:0.6202145894614626, MAE:29.37146567764873\n"
     ]
    }
   ],
   "source": [
    "\n",
    "# Predictions on training set\n",
    "pred_train = rf_fs_pipe.predict(X_train)\n",
    "\n",
    "# Evaluate rounded predictions on training set\n",
    "evaluate(y_train, pred_train, label = \"train\")\n",
    "\n",
    "\n",
    "# Predictions on test set\n",
    "pred_test = rf_fs_pipe.predict(X_test)\n",
    "\n",
    "# Evaluate rounded predictions on test set\n",
    "evaluate(y_test, pred_test)"
   ]
  },
  {
   "cell_type": "code",
   "execution_count": 17,
   "id": "42adfd72",
   "metadata": {},
   "outputs": [
    {
     "name": "stdout",
     "output_type": "stream",
     "text": [
      "valid set RMSE:32.29518352251725, R2:0.39602916239125996, MAE:28.192811961818755\n"
     ]
    }
   ],
   "source": [
    "#X_valid = test.drop(columns=drop_labels).copy()\n",
    "X_valid = test.groupby('unit_number').max().reset_index().drop(columns=drop_labels)\n",
    "new_pred = rf_fs_pipe.predict(X_valid)\n",
    "evaluate(rul, new_pred, label = 'valid')"
   ]
  },
  {
   "cell_type": "code",
   "execution_count": 18,
   "id": "ebb0609a",
   "metadata": {},
   "outputs": [],
   "source": [
    "rf = RandomForestRegressor(n_estimators=100, random_state=42)\n",
    "rf.fit(X_train, y_train)\n",
    "\n",
    "# Extract feature importances\n",
    "feature_importances = rf.feature_importances_\n",
    "\n",
    "# Select features based on importance\n",
    "sfm = SelectFromModel(rf, threshold='median')\n",
    "X_train_selected = sfm.fit_transform(X_train, y_train)\n",
    "\n",
    "# Subset data to include only selected features\n",
    "selected_features = X_train.columns[sfm.get_support()]\n",
    "X_train_selected_df = pd.DataFrame(X_train_selected, columns=selected_features)"
   ]
  },
  {
   "cell_type": "code",
   "execution_count": null,
   "id": "b065b3fb",
   "metadata": {},
   "outputs": [],
   "source": [
    "print(X_train_selected_df)\n",
    "print(X_train_selected_df.shape)"
   ]
  },
  {
   "cell_type": "code",
   "execution_count": null,
   "id": "6fdaf532",
   "metadata": {},
   "outputs": [],
   "source": [
    "regressor = RandomForestRegressor(random_state=0)"
   ]
  },
  {
   "cell_type": "code",
   "execution_count": null,
   "id": "5be7cdee",
   "metadata": {},
   "outputs": [],
   "source": [
    "regressor.fit(X_train_selected_df, y_train)"
   ]
  },
  {
   "cell_type": "code",
   "execution_count": null,
   "id": "a461a95f",
   "metadata": {},
   "outputs": [],
   "source": [
    "X_test_selected = sfm.transform(X_test)\n",
    "X_test_selected_df = pd.DataFrame(X_test_selected, columns=selected_features)\n",
    "print(X_test_selected_df)"
   ]
  },
  {
   "cell_type": "markdown",
   "id": "9172bd17",
   "metadata": {},
   "source": [
    "<h2>Building the pipeline </h2>"
   ]
  },
  {
   "cell_type": "code",
   "execution_count": null,
   "id": "2f752050",
   "metadata": {},
   "outputs": [],
   "source": [
    "def evaluate(y_true, y_hat, label='test'):\n",
    "    mse = mean_squared_error(y_true, y_hat)\n",
    "    rmse = np.sqrt(mse)\n",
    "    mae = mean_absolute_error(y_true, y_hat)\n",
    "    variance = r2_score(y_true, y_hat)\n",
    "    print('{} set RMSE:{}, R2:{}, MAE:{}'.format(label, rmse, variance, mae))"
   ]
  },
  {
   "cell_type": "code",
   "execution_count": null,
   "id": "c68f6249",
   "metadata": {},
   "outputs": [],
   "source": [
    "# Predictions on training set\n",
    "pred_train = regressor.predict(X_train_selected_df)\n",
    "\n",
    "# Evaluate rounded predictions on training set\n",
    "evaluate(y_train, pred_train, label = \"train\")\n",
    "\n",
    "\n",
    "# Predictions on test set\n",
    "pred_test = regressor.predict(X_test_selected_df)\n",
    "\n",
    "# Evaluate rounded predictions on test set\n",
    "evaluate(y_test, pred_test)\n"
   ]
  },
  {
   "cell_type": "code",
   "execution_count": null,
   "id": "4a5aab04",
   "metadata": {},
   "outputs": [],
   "source": [
    "plt.scatter(pred_train, y_train)"
   ]
  },
  {
   "cell_type": "code",
   "execution_count": null,
   "id": "e075a228",
   "metadata": {},
   "outputs": [],
   "source": [
    "plt.scatter(pred_test, y_test)"
   ]
  },
  {
   "cell_type": "code",
   "execution_count": null,
   "id": "329d6503",
   "metadata": {},
   "outputs": [],
   "source": [
    "y_test.reset_index(drop=True, inplace=True)\n",
    "\n",
    "preds = pd.Series(ML_pipeline.predict(X_test))\n",
    "\n",
    "errors = y_test - preds\n",
    "errors.hist(bins=30)\n",
    "plt.show()"
   ]
  },
  {
   "cell_type": "markdown",
   "id": "01e91c07",
   "metadata": {},
   "source": [
    "<h2> Cross Validation </h2>"
   ]
  },
  {
   "cell_type": "code",
   "execution_count": null,
   "id": "6d4cec3e",
   "metadata": {},
   "outputs": [],
   "source": [
    "kf = KFold(n_splits=5, shuffle=True, random_state=42)"
   ]
  },
  {
   "cell_type": "code",
   "execution_count": null,
   "id": "f793b3ba",
   "metadata": {},
   "outputs": [],
   "source": [
    "# Perform cross-validation on the training set\n",
    "cv_predictions_train = cross_val_predict(regressor, X_train, y_train, cv=kf)\n",
    "\n",
    "# Evaluate cross-validated predictions on training set\n",
    "evaluate(y_train, cv_predictions_train, label='cross-validation on training')\n",
    "\n",
    "# Fit the pipeline to the entire training set\n",
    "regressor.fit(X_train, y_train)\n",
    "\n",
    "# Make predictions on the test set\n",
    "test_predictions = regressor.predict(X_test)\n",
    "\n",
    "# Evaluate the model on the test set\n",
    "evaluate(y_test, test_predictions, label='test')\n"
   ]
  },
  {
   "cell_type": "markdown",
   "id": "9f394f26",
   "metadata": {},
   "source": [
    "<h1> Scoring </h1>"
   ]
  },
  {
   "cell_type": "code",
   "execution_count": null,
   "id": "5d69b270",
   "metadata": {},
   "outputs": [],
   "source": [
    "X_valid = test.groupby('unit_number').max().reset_index().drop(columns=drop_labels)\n",
    "X_valid_selected = sfm.transform(X_valid)\n",
    "X_valid_selected_df = pd.DataFrame(X_valid_selected, columns=selected_features)"
   ]
  },
  {
   "cell_type": "code",
   "execution_count": null,
   "id": "b60e85cd",
   "metadata": {},
   "outputs": [],
   "source": [
    "new_pred = regressor.predict(X_valid)\n",
    "evaluate(rul, new_pred, label = 'valid')"
   ]
  },
  {
   "cell_type": "code",
   "execution_count": null,
   "id": "af4e8b7f",
   "metadata": {},
   "outputs": [],
   "source": [
    "plt.scatter(rul, new_pred)\n",
    "plt.xlabel('True RUL')\n",
    "plt.ylabel('Predicted RUL')\n",
    "plt.title('Evaluation of RUL Predictions using RF')"
   ]
  },
  {
   "cell_type": "code",
   "execution_count": null,
   "id": "fa77b3f0",
   "metadata": {},
   "outputs": [],
   "source": []
  },
  {
   "cell_type": "code",
   "execution_count": null,
   "id": "1aad0a43",
   "metadata": {},
   "outputs": [],
   "source": [
    "save_path = \"../backend/\"\n",
    "\n",
    "# Fit the pipeline to the entire training set\n",
    "ML_pipeline.fit(X_train, y_train)\n",
    "\n",
    "# Serialize the trained model to a file in the specified location\n",
    "#joblib.dump(ML_pipeline, save_path + 'rf_correlation.pkl')"
   ]
  },
  {
   "cell_type": "code",
   "execution_count": null,
   "id": "5d52d563",
   "metadata": {},
   "outputs": [],
   "source": []
  }
 ],
 "metadata": {
  "kernelspec": {
   "display_name": "Python 3 (ipykernel)",
   "language": "python",
   "name": "python3"
  },
  "language_info": {
   "codemirror_mode": {
    "name": "ipython",
    "version": 3
   },
   "file_extension": ".py",
   "mimetype": "text/x-python",
   "name": "python",
   "nbconvert_exporter": "python",
   "pygments_lexer": "ipython3",
   "version": "3.11.5"
  }
 },
 "nbformat": 4,
 "nbformat_minor": 5
}
