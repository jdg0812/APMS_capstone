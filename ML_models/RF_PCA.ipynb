{
 "cells": [
  {
   "cell_type": "code",
   "execution_count": 1,
   "id": "4caf0524",
   "metadata": {},
   "outputs": [],
   "source": [
    "#data handling\n",
    "import pandas as pd\n",
    "import numpy as np\n",
    "\n",
    "#visualisation\n",
    "import matplotlib.pyplot as plt\n",
    "\n",
    "#dividing into train/test\n",
    "from sklearn.model_selection import train_test_split\n",
    "\n",
    "# feature scaling\n",
    "from sklearn.preprocessing import MinMaxScaler\n",
    "from sklearn.preprocessing import StandardScaler\n",
    "\n",
    "#model building\n",
    "from sklearn.ensemble import RandomForestRegressor\n",
    "\n",
    "#model evaluation\n",
    "from sklearn.metrics import r2_score, mean_squared_error, mean_absolute_error\n",
    "\n",
    "# to persist the model and the scaler\n",
    "import joblib\n",
    "\n",
    "# pipeline\n",
    "from sklearn.pipeline import Pipeline\n",
    "\n",
    "#cross validation\n",
    "from sklearn.model_selection import cross_val_score, KFold\n",
    "from sklearn.model_selection import cross_val_predict\n",
    "\n",
    "\n",
    "#feature selection method - pca\n",
    "from sklearn.decomposition import PCA"
   ]
  },
  {
   "cell_type": "code",
   "execution_count": 2,
   "id": "7d93fa9f",
   "metadata": {},
   "outputs": [],
   "source": [
    "#defining feature names\n",
    "index_names = ['unit_number', 'time_cycles']\n",
    "setting_names = ['setting_1', 'setting_2', 'setting_3']\n",
    "sensor_names = ['s_{}'.format(i+1) for i in range(0,21)]\n",
    "col_names = index_names + setting_names + sensor_names"
   ]
  },
  {
   "cell_type": "code",
   "execution_count": 3,
   "id": "7652db66",
   "metadata": {},
   "outputs": [],
   "source": [
    "train = pd.read_csv('../backend/CMAPSSData/train_FD001.txt',sep='\\s+',header=None,index_col=False,names=col_names)\n",
    "test = pd.read_csv('../backend/CMAPSSData/test_FD001.txt',sep='\\s+',header=None,index_col=False,names=col_names)\n",
    "rul = pd.read_csv('../backend/CMAPSSDATA/RUL_FD001.txt',sep='\\s+',header=None,index_col=False,names=['RUL'])"
   ]
  },
  {
   "cell_type": "code",
   "execution_count": 4,
   "id": "61afe276",
   "metadata": {},
   "outputs": [],
   "source": [
    "def add_RUL_column(df):\n",
    "    \n",
    "    #get total number of cycles for each unit\n",
    "    train_grouped_by_unit = df.groupby(by='unit_number') \n",
    "    max_time_cycles = train_grouped_by_unit['time_cycles'].max() \n",
    "    \n",
    "    #merge the max cycle back into original frame\n",
    "    merged = df.merge(max_time_cycles.to_frame(name='max_time_cycle'), left_on='unit_number',right_index=True)\n",
    "    \n",
    "    #calculate remaining useful life for each row\n",
    "    merged[\"RUL\"] = merged[\"max_time_cycle\"] - merged['time_cycles']\n",
    "    \n",
    "    #drop max cycle as it's no longer needed\n",
    "    merged = merged.drop(\"max_time_cycle\", axis=1) \n",
    "    return merged"
   ]
  },
  {
   "cell_type": "code",
   "execution_count": 5,
   "id": "5635e8b4",
   "metadata": {},
   "outputs": [],
   "source": [
    "train = add_RUL_column(train)"
   ]
  },
  {
   "cell_type": "code",
   "execution_count": 6,
   "id": "37f1818a",
   "metadata": {},
   "outputs": [
    {
     "data": {
      "text/plain": [
       "{'s_1': '(Fan inlet temperature) (◦R)',\n",
       " 's_2': '(LPC outlet temperature) (◦R)',\n",
       " 's_3': '(HPC outlet temperature) (◦R)',\n",
       " 's_4': '(LPT outlet temperature) (◦R)',\n",
       " 's_5': '(Fan inlet Pressure) (psia)',\n",
       " 's_6': '(bypass-duct pressure) (psia)',\n",
       " 's_7': '(HPC outlet pressure) (psia)',\n",
       " 's_8': '(Physical fan speed) (rpm)',\n",
       " 's_9': '(Physical core speed) (rpm)',\n",
       " 's_10': '(Engine pressure ratio(P50/P2)',\n",
       " 's_11': '(HPC outlet Static pressure) (psia)',\n",
       " 's_12': '(Ratio of fuel flow to Ps30) (pps/psia)',\n",
       " 's_13': '(Corrected fan speed) (rpm)',\n",
       " 's_14': '(Corrected core speed) (rpm)',\n",
       " 's_15': '(Bypass Ratio) ',\n",
       " 's_16': '(Burner fuel-air ratio)',\n",
       " 's_17': '(Bleed Enthalpy)',\n",
       " 's_18': '(Required fan speed)',\n",
       " 's_19': '(Required fan conversion speed)',\n",
       " 's_20': '(High-pressure turbines Cool air flow)',\n",
       " 's_21': '(Low-pressure turbines Cool air flow)'}"
      ]
     },
     "execution_count": 6,
     "metadata": {},
     "output_type": "execute_result"
    }
   ],
   "source": [
    "Sensor_dictionary={}\n",
    "dict_list=[ \"(Fan inlet temperature) (◦R)\",\n",
    "\"(LPC outlet temperature) (◦R)\",\n",
    "\"(HPC outlet temperature) (◦R)\",\n",
    "\"(LPT outlet temperature) (◦R)\",\n",
    "\"(Fan inlet Pressure) (psia)\",\n",
    "\"(bypass-duct pressure) (psia)\",\n",
    "\"(HPC outlet pressure) (psia)\",\n",
    "\"(Physical fan speed) (rpm)\",\n",
    "\"(Physical core speed) (rpm)\",\n",
    "\"(Engine pressure ratio(P50/P2)\",\n",
    "\"(HPC outlet Static pressure) (psia)\",\n",
    "\"(Ratio of fuel flow to Ps30) (pps/psia)\",\n",
    "\"(Corrected fan speed) (rpm)\",\n",
    "\"(Corrected core speed) (rpm)\",\n",
    "\"(Bypass Ratio) \",\n",
    "\"(Burner fuel-air ratio)\",\n",
    "\"(Bleed Enthalpy)\",\n",
    "\"(Required fan speed)\",\n",
    "\"(Required fan conversion speed)\",\n",
    "\"(High-pressure turbines Cool air flow)\",\n",
    "\"(Low-pressure turbines Cool air flow)\" ]\n",
    "i=1\n",
    "for x in dict_list :\n",
    "    Sensor_dictionary['s_'+str(i)]=x\n",
    "    i+=1\n",
    "Sensor_dictionary"
   ]
  },
  {
   "cell_type": "markdown",
   "id": "7334da0d",
   "metadata": {},
   "source": [
    "<h1> PCA </h1>"
   ]
  },
  {
   "cell_type": "code",
   "execution_count": 7,
   "id": "5da64d2e",
   "metadata": {},
   "outputs": [],
   "source": [
    "scaler = StandardScaler()\n"
   ]
  },
  {
   "cell_type": "code",
   "execution_count": 20,
   "id": "e195022e",
   "metadata": {},
   "outputs": [],
   "source": [
    "pca = PCA(n_components = 10)"
   ]
  },
  {
   "cell_type": "code",
   "execution_count": 21,
   "id": "b182dc55",
   "metadata": {},
   "outputs": [],
   "source": [
    "drop_labels = index_names+setting_names\n",
    "X_train=train.drop(columns=drop_labels).copy()\n",
    "X_train.drop(columns = ['RUL'])\n",
    "X_scaled = scaler.fit_transform(X_train)\n",
    "x_pca = pca.fit_transform(X_scaled)\n",
    "X_train, X_test, y_train, y_test=train_test_split(\n",
    "    x_pca, #predictor\n",
    "    X_train['RUL'], #target\n",
    "    test_size=0.3, #split\n",
    "    random_state=0) #set seed for reproducibility"
   ]
  },
  {
   "cell_type": "code",
   "execution_count": 22,
   "id": "91ae2a0c",
   "metadata": {},
   "outputs": [],
   "source": [
    "regressor = RandomForestRegressor(random_state=0)"
   ]
  },
  {
   "cell_type": "code",
   "execution_count": 23,
   "id": "8198c5a7",
   "metadata": {},
   "outputs": [
    {
     "data": {
      "text/html": [
       "<style>#sk-container-id-2 {color: black;}#sk-container-id-2 pre{padding: 0;}#sk-container-id-2 div.sk-toggleable {background-color: white;}#sk-container-id-2 label.sk-toggleable__label {cursor: pointer;display: block;width: 100%;margin-bottom: 0;padding: 0.3em;box-sizing: border-box;text-align: center;}#sk-container-id-2 label.sk-toggleable__label-arrow:before {content: \"▸\";float: left;margin-right: 0.25em;color: #696969;}#sk-container-id-2 label.sk-toggleable__label-arrow:hover:before {color: black;}#sk-container-id-2 div.sk-estimator:hover label.sk-toggleable__label-arrow:before {color: black;}#sk-container-id-2 div.sk-toggleable__content {max-height: 0;max-width: 0;overflow: hidden;text-align: left;background-color: #f0f8ff;}#sk-container-id-2 div.sk-toggleable__content pre {margin: 0.2em;color: black;border-radius: 0.25em;background-color: #f0f8ff;}#sk-container-id-2 input.sk-toggleable__control:checked~div.sk-toggleable__content {max-height: 200px;max-width: 100%;overflow: auto;}#sk-container-id-2 input.sk-toggleable__control:checked~label.sk-toggleable__label-arrow:before {content: \"▾\";}#sk-container-id-2 div.sk-estimator input.sk-toggleable__control:checked~label.sk-toggleable__label {background-color: #d4ebff;}#sk-container-id-2 div.sk-label input.sk-toggleable__control:checked~label.sk-toggleable__label {background-color: #d4ebff;}#sk-container-id-2 input.sk-hidden--visually {border: 0;clip: rect(1px 1px 1px 1px);clip: rect(1px, 1px, 1px, 1px);height: 1px;margin: -1px;overflow: hidden;padding: 0;position: absolute;width: 1px;}#sk-container-id-2 div.sk-estimator {font-family: monospace;background-color: #f0f8ff;border: 1px dotted black;border-radius: 0.25em;box-sizing: border-box;margin-bottom: 0.5em;}#sk-container-id-2 div.sk-estimator:hover {background-color: #d4ebff;}#sk-container-id-2 div.sk-parallel-item::after {content: \"\";width: 100%;border-bottom: 1px solid gray;flex-grow: 1;}#sk-container-id-2 div.sk-label:hover label.sk-toggleable__label {background-color: #d4ebff;}#sk-container-id-2 div.sk-serial::before {content: \"\";position: absolute;border-left: 1px solid gray;box-sizing: border-box;top: 0;bottom: 0;left: 50%;z-index: 0;}#sk-container-id-2 div.sk-serial {display: flex;flex-direction: column;align-items: center;background-color: white;padding-right: 0.2em;padding-left: 0.2em;position: relative;}#sk-container-id-2 div.sk-item {position: relative;z-index: 1;}#sk-container-id-2 div.sk-parallel {display: flex;align-items: stretch;justify-content: center;background-color: white;position: relative;}#sk-container-id-2 div.sk-item::before, #sk-container-id-2 div.sk-parallel-item::before {content: \"\";position: absolute;border-left: 1px solid gray;box-sizing: border-box;top: 0;bottom: 0;left: 50%;z-index: -1;}#sk-container-id-2 div.sk-parallel-item {display: flex;flex-direction: column;z-index: 1;position: relative;background-color: white;}#sk-container-id-2 div.sk-parallel-item:first-child::after {align-self: flex-end;width: 50%;}#sk-container-id-2 div.sk-parallel-item:last-child::after {align-self: flex-start;width: 50%;}#sk-container-id-2 div.sk-parallel-item:only-child::after {width: 0;}#sk-container-id-2 div.sk-dashed-wrapped {border: 1px dashed gray;margin: 0 0.4em 0.5em 0.4em;box-sizing: border-box;padding-bottom: 0.4em;background-color: white;}#sk-container-id-2 div.sk-label label {font-family: monospace;font-weight: bold;display: inline-block;line-height: 1.2em;}#sk-container-id-2 div.sk-label-container {text-align: center;}#sk-container-id-2 div.sk-container {/* jupyter's `normalize.less` sets `[hidden] { display: none; }` but bootstrap.min.css set `[hidden] { display: none !important; }` so we also need the `!important` here to be able to override the default hidden behavior on the sphinx rendered scikit-learn.org. See: https://github.com/scikit-learn/scikit-learn/issues/21755 */display: inline-block !important;position: relative;}#sk-container-id-2 div.sk-text-repr-fallback {display: none;}</style><div id=\"sk-container-id-2\" class=\"sk-top-container\"><div class=\"sk-text-repr-fallback\"><pre>RandomForestRegressor(random_state=0)</pre><b>In a Jupyter environment, please rerun this cell to show the HTML representation or trust the notebook. <br />On GitHub, the HTML representation is unable to render, please try loading this page with nbviewer.org.</b></div><div class=\"sk-container\" hidden><div class=\"sk-item\"><div class=\"sk-estimator sk-toggleable\"><input class=\"sk-toggleable__control sk-hidden--visually\" id=\"sk-estimator-id-2\" type=\"checkbox\" checked><label for=\"sk-estimator-id-2\" class=\"sk-toggleable__label sk-toggleable__label-arrow\">RandomForestRegressor</label><div class=\"sk-toggleable__content\"><pre>RandomForestRegressor(random_state=0)</pre></div></div></div></div></div>"
      ],
      "text/plain": [
       "RandomForestRegressor(random_state=0)"
      ]
     },
     "execution_count": 23,
     "metadata": {},
     "output_type": "execute_result"
    }
   ],
   "source": [
    "regressor.fit(X_train, y_train)"
   ]
  },
  {
   "cell_type": "code",
   "execution_count": null,
   "id": "ecfda58c",
   "metadata": {},
   "outputs": [],
   "source": []
  },
  {
   "cell_type": "code",
   "execution_count": 12,
   "id": "441c8982",
   "metadata": {},
   "outputs": [],
   "source": [
    "def evaluate(y_true, y_hat, label='test'):\n",
    "    mse = mean_squared_error(y_true, y_hat)\n",
    "    rmse = np.sqrt(mse)\n",
    "    mae = mean_absolute_error(y_true, y_hat)\n",
    "    variance = r2_score(y_true, y_hat)\n",
    "    print('{} set RMSE:{}, R2:{}, MAE:{}'.format(label, rmse, variance, mae))"
   ]
  },
  {
   "cell_type": "code",
   "execution_count": 24,
   "id": "e74cec09",
   "metadata": {},
   "outputs": [
    {
     "name": "stdout",
     "output_type": "stream",
     "text": [
      "train set RMSE:3.2180168449920714, R2:0.9978337496647361, MAE:2.4190755487847104\n",
      "test set RMSE:8.699605961031875, R2:0.9837595556629452, MAE:6.5248497576736675\n"
     ]
    }
   ],
   "source": [
    "pred_train = regressor.predict(X_train)\n",
    "evaluate(y_train, pred_train, label='train')\n",
    "\n",
    "pred_test = regressor.predict(X_test)\n",
    "evaluate(y_test, pred_test)"
   ]
  },
  {
   "cell_type": "code",
   "execution_count": 25,
   "id": "83249c62",
   "metadata": {},
   "outputs": [],
   "source": [
    "X_valid = test.groupby('unit_number').last().reset_index().drop(columns=drop_labels)\n",
    "X_val_scaled = scaler.fit_transform(X_valid)\n",
    "X_valid_pca = pca.fit_transform(X_val_scaled)"
   ]
  },
  {
   "cell_type": "code",
   "execution_count": 36,
   "id": "92ac04a0",
   "metadata": {},
   "outputs": [
    {
     "name": "stdout",
     "output_type": "stream",
     "text": [
      "valid set RMSE:50.490370369011956, R2:-0.47624203935259546, MAE:37.1384\n"
     ]
    }
   ],
   "source": [
    "new_pred = regressor.predict(X_valid_pca)\n",
    "new_pred.round()\n",
    "evaluate(rul, new_pred, label = 'valid')"
   ]
  },
  {
   "cell_type": "code",
   "execution_count": 41,
   "id": "33b45541",
   "metadata": {},
   "outputs": [
    {
     "name": "stdout",
     "output_type": "stream",
     "text": [
      "[137.32 215.84  43.47  84.54 106.42 100.01 112.11 151.68 172.42 121.62\n",
      "  99.61 144.17  88.79 143.14 139.05 221.91  60.63  49.74 144.24  21.86\n",
      " 209.71 138.21 177.1   58.13  86.86 173.35 163.53 125.04 108.7  161.37\n",
      "  30.6   67.53 159.26   6.27  17.22  49.52  82.76  61.29 143.04  29.02\n",
      "  55.17  23.96  88.98 158.43 119.79  98.62 181.24 129.91  25.72 115.98\n",
      " 101.97  31.58  53.63 168.33 130.69  29.99  96.74  97.32 259.62  91.82\n",
      "  45.94  78.01 115.12  97.39 211.65  19.04 165.82  21.43 131.81  76.24\n",
      " 197.27  66.44 127.25 190.03 190.45  18.07  25.28 193.03 157.87 165.48\n",
      "   9.68  10.92 184.24  49.11 109.52  64.9  150.33  93.73  57.57  56.17\n",
      "  41.92  23.34 101.11 143.78  93.84 222.53  67.57  96.78 218.02  23.83]\n",
      "    RUL\n",
      "0   112\n",
      "1    98\n",
      "2    69\n",
      "3    82\n",
      "4    91\n",
      "..  ...\n",
      "95  137\n",
      "96   82\n",
      "97   59\n",
      "98  117\n",
      "99   20\n",
      "\n",
      "[100 rows x 1 columns]\n"
     ]
    }
   ],
   "source": [
    "print(new_pred)\n",
    "print(rul)"
   ]
  },
  {
   "cell_type": "code",
   "execution_count": 15,
   "id": "b24763c3",
   "metadata": {},
   "outputs": [
    {
     "data": {
      "text/plain": [
       "<matplotlib.collections.PathCollection at 0x15285c090>"
      ]
     },
     "execution_count": 15,
     "metadata": {},
     "output_type": "execute_result"
    },
    {
     "data": {
      "image/png": "[encoded data removed]",
      "text/plain": [
       "<Figure size 640x480 with 1 Axes>"
      ]
     },
     "metadata": {},
     "output_type": "display_data"
    }
   ],
   "source": [
    "plt.scatter(pred_test, y_test)"
   ]
  },
  {
   "cell_type": "code",
   "execution_count": 18,
   "id": "352982bb",
   "metadata": {},
   "outputs": [
    {
     "data": {
      "text/plain": [
       "<matplotlib.collections.PathCollection at 0x15320ec50>"
      ]
     },
     "execution_count": 18,
     "metadata": {},
     "output_type": "execute_result"
    },
    {
     "data": {
      "image/png": "[encoded data removed]",
      "text/plain": [
       "<Figure size 640x480 with 1 Axes>"
      ]
     },
     "metadata": {},
     "output_type": "display_data"
    }
   ],
   "source": [
    "plt.scatter(rul, new_pred)"
   ]
  },
  {
   "cell_type": "code",
   "execution_count": 19,
   "id": "24fd2f5f",
   "metadata": {},
   "outputs": [
    {
     "name": "stdout",
     "output_type": "stream",
     "text": [
      "Cross-Validation Scores: [258.48  13.91 153.62 ...  59.23 174.64 165.  ]\n",
      "cross-validation on training set RMSE:9.309411598928286, R2:0.9818708901187455, MAE:7.075399903053806\n",
      "Mean CV Score: 107.75851187590887\n",
      "Standard Deviation of CV Scores: 67.21397576039955\n",
      "test set RMSE:9.142016150126627, R2:0.9820657709836165, MAE:6.8757609046849755\n"
     ]
    }
   ],
   "source": [
    "kf = KFold(n_splits=5, shuffle=True, random_state=42)\n",
    "\n",
    "# Perform cross-validation on the training set\n",
    "cv_predictions_train = cross_val_predict(regressor, X_train, y_train, cv=kf)\n",
    "print(\"Cross-Validation Scores:\", cv_predictions_train)\n",
    "\n",
    "# Evaluate cross-validated predictions on training set\n",
    "evaluate(y_train, cv_predictions_train, label='cross-validation on training')\n",
    "\n",
    "# Calculate the mean and standard deviation of the cross-validation scores\n",
    "cv_mean_score = cv_predictions_train.mean()\n",
    "cv_std_score = cv_predictions_train.std()\n",
    "\n",
    "# Print the mean and standard deviation of the cross-validation scores\n",
    "print(\"Mean CV Score:\", cv_mean_score)\n",
    "print(\"Standard Deviation of CV Scores:\", cv_std_score)\n",
    "\n",
    "# Fit the pipeline to the entire training set\n",
    "regressor.fit(X_train, y_train)\n",
    "\n",
    "# Make predictions on the test set\n",
    "test_predictions = regressor.predict(X_test)\n",
    "\n",
    "# Evaluate the model on the test set\n",
    "evaluate(y_test, test_predictions, label='test')"
   ]
  },
  {
   "cell_type": "markdown",
   "id": "26a6dd4b",
   "metadata": {},
   "source": [
    "<h1> Building the Pipeline </h1> "
   ]
  },
  {
   "cell_type": "markdown",
   "id": "ecf4b9a1",
   "metadata": {},
   "source": [
    "<ul> \n",
    "    <li> building the pre-processing pipeline </li> \n",
    "    <li> building the model pipeline </li> \n",
    "</ul>\n",
    " "
   ]
  },
  {
   "cell_type": "code",
   "execution_count": null,
   "id": "3dab9266",
   "metadata": {},
   "outputs": [],
   "source": []
  }
 ],
 "metadata": {
  "kernelspec": {
   "display_name": "Python 3 (ipykernel)",
   "language": "python",
   "name": "python3"
  },
  "language_info": {
   "codemirror_mode": {
    "name": "ipython",
    "version": 3
   },
   "file_extension": ".py",
   "mimetype": "text/x-python",
   "name": "python",
   "nbconvert_exporter": "python",
   "pygments_lexer": "ipython3",
   "version": "3.11.5"
  }
 },
 "nbformat": 4,
 "nbformat_minor": 5
}
