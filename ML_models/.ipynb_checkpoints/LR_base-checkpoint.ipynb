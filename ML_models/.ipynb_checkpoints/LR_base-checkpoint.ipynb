{
 "cells": [
  {
   "cell_type": "markdown",
   "id": "844c7797",
   "metadata": {},
   "source": [
    "<h1> Building the ML Pipeline </h1>"
   ]
  },
  {
   "cell_type": "code",
   "execution_count": 1,
   "id": "38e419cc",
   "metadata": {},
   "outputs": [],
   "source": [
    "#data handling\n",
    "import pandas as pd\n",
    "import numpy as np\n",
    "\n",
    "#visualisation\n",
    "import matplotlib.pyplot as plt\n",
    "\n",
    "#dividing into train/test\n",
    "from sklearn.model_selection import train_test_split\n",
    "\n",
    "# feature scaling\n",
    "from sklearn.preprocessing import MinMaxScaler\n",
    "from sklearn.preprocessing import StandardScaler\n",
    "\n",
    "#model building\n",
    "from sklearn.linear_model import LinearRegression\n",
    "\n",
    "#model evaluation\n",
    "from sklearn.metrics import r2_score, mean_squared_error, mean_absolute_error\n",
    "\n",
    "# to persist the model and the scaler\n",
    "import joblib\n",
    "\n",
    "# pipeline\n",
    "from sklearn.pipeline import Pipeline\n",
    "\n",
    "\n",
    "#cross validation\n",
    "from sklearn.model_selection import cross_val_score, KFold\n",
    "from sklearn.model_selection import cross_val_predict\n"
   ]
  },
  {
   "cell_type": "code",
   "execution_count": 2,
   "id": "3aa0e67a",
   "metadata": {},
   "outputs": [],
   "source": [
    "#defining feature names\n",
    "index_names = ['unit_number', 'time_cycles']\n",
    "setting_names = ['setting_1', 'setting_2', 'setting_3']\n",
    "sensor_names = ['s_{}'.format(i+1) for i in range(0,21)]\n",
    "col_names = index_names + setting_names + sensor_names"
   ]
  },
  {
   "cell_type": "code",
   "execution_count": 3,
   "id": "13331861",
   "metadata": {},
   "outputs": [],
   "source": [
    "train = pd.read_csv('../backend/CMAPSSData/train_FD001.txt',sep='\\s+',header=None,index_col=False,names=col_names)\n",
    "test = pd.read_csv('../backend/CMAPSSData/test_FD001.txt',sep='\\s+',header=None,index_col=False,names=col_names)\n",
    "rul = pd.read_csv('../backend/CMAPSSDATA/RUL_FD001.txt',sep='\\s+',header=None,index_col=False,names=['RUL'])"
   ]
  },
  {
   "cell_type": "code",
   "execution_count": 4,
   "id": "d5528e61",
   "metadata": {},
   "outputs": [],
   "source": [
    "def add_RUL_column(df):\n",
    "    \n",
    "    #get total number of cycles for each unit\n",
    "    train_grouped_by_unit = df.groupby(by='unit_number') \n",
    "    max_time_cycles = train_grouped_by_unit['time_cycles'].max() \n",
    "    \n",
    "    #merge the max cycle back into original frame\n",
    "    merged = df.merge(max_time_cycles.to_frame(name='max_time_cycle'), left_on='unit_number',right_index=True)\n",
    "    \n",
    "    #calculate remaining useful life for each row\n",
    "    merged[\"RUL\"] = merged[\"max_time_cycle\"] - merged['time_cycles']\n",
    "    \n",
    "    #drop max cycle as it's no longer needed\n",
    "    merged = merged.drop(\"max_time_cycle\", axis=1) \n",
    "    return merged"
   ]
  },
  {
   "cell_type": "code",
   "execution_count": 5,
   "id": "db182560",
   "metadata": {},
   "outputs": [],
   "source": [
    "train = add_RUL_column(train)"
   ]
  },
  {
   "cell_type": "code",
   "execution_count": 6,
   "id": "95178c91",
   "metadata": {},
   "outputs": [
    {
     "data": {
      "text/plain": [
       "{'s_1': '(Fan inlet temperature) (◦R)',\n",
       " 's_2': '(LPC outlet temperature) (◦R)',\n",
       " 's_3': '(HPC outlet temperature) (◦R)',\n",
       " 's_4': '(LPT outlet temperature) (◦R)',\n",
       " 's_5': '(Fan inlet Pressure) (psia)',\n",
       " 's_6': '(bypass-duct pressure) (psia)',\n",
       " 's_7': '(HPC outlet pressure) (psia)',\n",
       " 's_8': '(Physical fan speed) (rpm)',\n",
       " 's_9': '(Physical core speed) (rpm)',\n",
       " 's_10': '(Engine pressure ratio(P50/P2)',\n",
       " 's_11': '(HPC outlet Static pressure) (psia)',\n",
       " 's_12': '(Ratio of fuel flow to Ps30) (pps/psia)',\n",
       " 's_13': '(Corrected fan speed) (rpm)',\n",
       " 's_14': '(Corrected core speed) (rpm)',\n",
       " 's_15': '(Bypass Ratio) ',\n",
       " 's_16': '(Burner fuel-air ratio)',\n",
       " 's_17': '(Bleed Enthalpy)',\n",
       " 's_18': '(Required fan speed)',\n",
       " 's_19': '(Required fan conversion speed)',\n",
       " 's_20': '(High-pressure turbines Cool air flow)',\n",
       " 's_21': '(Low-pressure turbines Cool air flow)'}"
      ]
     },
     "execution_count": 6,
     "metadata": {},
     "output_type": "execute_result"
    }
   ],
   "source": [
    "Sensor_dictionary={}\n",
    "dict_list=[ \"(Fan inlet temperature) (◦R)\",\n",
    "\"(LPC outlet temperature) (◦R)\",\n",
    "\"(HPC outlet temperature) (◦R)\",\n",
    "\"(LPT outlet temperature) (◦R)\",\n",
    "\"(Fan inlet Pressure) (psia)\",\n",
    "\"(bypass-duct pressure) (psia)\",\n",
    "\"(HPC outlet pressure) (psia)\",\n",
    "\"(Physical fan speed) (rpm)\",\n",
    "\"(Physical core speed) (rpm)\",\n",
    "\"(Engine pressure ratio(P50/P2)\",\n",
    "\"(HPC outlet Static pressure) (psia)\",\n",
    "\"(Ratio of fuel flow to Ps30) (pps/psia)\",\n",
    "\"(Corrected fan speed) (rpm)\",\n",
    "\"(Corrected core speed) (rpm)\",\n",
    "\"(Bypass Ratio) \",\n",
    "\"(Burner fuel-air ratio)\",\n",
    "\"(Bleed Enthalpy)\",\n",
    "\"(Required fan speed)\",\n",
    "\"(Required fan conversion speed)\",\n",
    "\"(High-pressure turbines Cool air flow)\",\n",
    "\"(Low-pressure turbines Cool air flow)\" ]\n",
    "i=1\n",
    "for x in dict_list :\n",
    "    Sensor_dictionary['s_'+str(i)]=x\n",
    "    i+=1\n",
    "Sensor_dictionary"
   ]
  },
  {
   "cell_type": "code",
   "execution_count": 7,
   "id": "d30570e9",
   "metadata": {},
   "outputs": [],
   "source": [
    "drop_labels = index_names+setting_names\n",
    "X_train=train.drop(columns=drop_labels).copy()\n",
    "X_train, X_test, y_train, y_test=train_test_split(\n",
    "    X_train.drop('RUL', axis=1), #predictor\n",
    "    X_train['RUL'], #target\n",
    "    test_size=0.3, #split\n",
    "    random_state=0) #set seed for reproducibility"
   ]
  },
  {
   "cell_type": "markdown",
   "id": "ce22d1d9",
   "metadata": {},
   "source": [
    "<h1> Pipeline </h1>"
   ]
  },
  {
   "cell_type": "code",
   "execution_count": 8,
   "id": "da7c0af1",
   "metadata": {},
   "outputs": [],
   "source": [
    "class Linear_Regression() :\n",
    "    def __init__( self, lr=0.01, iterations=150 ) :    \n",
    "        self.lr = lr\n",
    "        self.iterations = iterations     \n",
    "    def fit( self, X, Y ) :\n",
    "        self.l, self.p = X.shape\n",
    "        # weight initializer\n",
    "        self.W = np.zeros( self.p )\n",
    "        self.b = 0\n",
    "        self.X = X\n",
    "        self.Y = Y\n",
    "        # gradientlearning      \n",
    "        for i in range( self.iterations ) :  \n",
    "            self.weight_updater()\n",
    "        return self\n",
    "         \n",
    "    def weight_updater( self ) :\n",
    "        Y_pred = self.predict( self.X )  \n",
    "        #  gradients  \n",
    "        dW = - ( 2 * ( self.X.T ).dot( self.Y - Y_pred )  ) / self.l\n",
    "        db = - 2 * np.sum( self.Y - Y_pred ) / self.l\n",
    "        # new weights assigned\n",
    "        self.b = self.b - self.lr * db\n",
    "        self.W = self.W - self.lr * dW\n",
    "        return self\n",
    "          \n",
    "    def predict( self, X ) :\n",
    "          # Y_pr=X.W+b\n",
    "        return X.dot( self.W ) + self.b"
   ]
  },
  {
   "cell_type": "code",
   "execution_count": 9,
   "id": "5ea70f7a",
   "metadata": {},
   "outputs": [],
   "source": [
    "LR_base = Pipeline([\n",
    "    ('scaler', MinMaxScaler()),\n",
    "    ('linear_regression', Linear_Regression()),\n",
    "])"
   ]
  },
  {
   "cell_type": "code",
   "execution_count": 10,
   "id": "d1246bb9",
   "metadata": {},
   "outputs": [
    {
     "data": {
      "text/html": [
       "<style>#sk-container-id-1 {color: black;}#sk-container-id-1 pre{padding: 0;}#sk-container-id-1 div.sk-toggleable {background-color: white;}#sk-container-id-1 label.sk-toggleable__label {cursor: pointer;display: block;width: 100%;margin-bottom: 0;padding: 0.3em;box-sizing: border-box;text-align: center;}#sk-container-id-1 label.sk-toggleable__label-arrow:before {content: \"▸\";float: left;margin-right: 0.25em;color: #696969;}#sk-container-id-1 label.sk-toggleable__label-arrow:hover:before {color: black;}#sk-container-id-1 div.sk-estimator:hover label.sk-toggleable__label-arrow:before {color: black;}#sk-container-id-1 div.sk-toggleable__content {max-height: 0;max-width: 0;overflow: hidden;text-align: left;background-color: #f0f8ff;}#sk-container-id-1 div.sk-toggleable__content pre {margin: 0.2em;color: black;border-radius: 0.25em;background-color: #f0f8ff;}#sk-container-id-1 input.sk-toggleable__control:checked~div.sk-toggleable__content {max-height: 200px;max-width: 100%;overflow: auto;}#sk-container-id-1 input.sk-toggleable__control:checked~label.sk-toggleable__label-arrow:before {content: \"▾\";}#sk-container-id-1 div.sk-estimator input.sk-toggleable__control:checked~label.sk-toggleable__label {background-color: #d4ebff;}#sk-container-id-1 div.sk-label input.sk-toggleable__control:checked~label.sk-toggleable__label {background-color: #d4ebff;}#sk-container-id-1 input.sk-hidden--visually {border: 0;clip: rect(1px 1px 1px 1px);clip: rect(1px, 1px, 1px, 1px);height: 1px;margin: -1px;overflow: hidden;padding: 0;position: absolute;width: 1px;}#sk-container-id-1 div.sk-estimator {font-family: monospace;background-color: #f0f8ff;border: 1px dotted black;border-radius: 0.25em;box-sizing: border-box;margin-bottom: 0.5em;}#sk-container-id-1 div.sk-estimator:hover {background-color: #d4ebff;}#sk-container-id-1 div.sk-parallel-item::after {content: \"\";width: 100%;border-bottom: 1px solid gray;flex-grow: 1;}#sk-container-id-1 div.sk-label:hover label.sk-toggleable__label {background-color: #d4ebff;}#sk-container-id-1 div.sk-serial::before {content: \"\";position: absolute;border-left: 1px solid gray;box-sizing: border-box;top: 0;bottom: 0;left: 50%;z-index: 0;}#sk-container-id-1 div.sk-serial {display: flex;flex-direction: column;align-items: center;background-color: white;padding-right: 0.2em;padding-left: 0.2em;position: relative;}#sk-container-id-1 div.sk-item {position: relative;z-index: 1;}#sk-container-id-1 div.sk-parallel {display: flex;align-items: stretch;justify-content: center;background-color: white;position: relative;}#sk-container-id-1 div.sk-item::before, #sk-container-id-1 div.sk-parallel-item::before {content: \"\";position: absolute;border-left: 1px solid gray;box-sizing: border-box;top: 0;bottom: 0;left: 50%;z-index: -1;}#sk-container-id-1 div.sk-parallel-item {display: flex;flex-direction: column;z-index: 1;position: relative;background-color: white;}#sk-container-id-1 div.sk-parallel-item:first-child::after {align-self: flex-end;width: 50%;}#sk-container-id-1 div.sk-parallel-item:last-child::after {align-self: flex-start;width: 50%;}#sk-container-id-1 div.sk-parallel-item:only-child::after {width: 0;}#sk-container-id-1 div.sk-dashed-wrapped {border: 1px dashed gray;margin: 0 0.4em 0.5em 0.4em;box-sizing: border-box;padding-bottom: 0.4em;background-color: white;}#sk-container-id-1 div.sk-label label {font-family: monospace;font-weight: bold;display: inline-block;line-height: 1.2em;}#sk-container-id-1 div.sk-label-container {text-align: center;}#sk-container-id-1 div.sk-container {/* jupyter's `normalize.less` sets `[hidden] { display: none; }` but bootstrap.min.css set `[hidden] { display: none !important; }` so we also need the `!important` here to be able to override the default hidden behavior on the sphinx rendered scikit-learn.org. See: https://github.com/scikit-learn/scikit-learn/issues/21755 */display: inline-block !important;position: relative;}#sk-container-id-1 div.sk-text-repr-fallback {display: none;}</style><div id=\"sk-container-id-1\" class=\"sk-top-container\"><div class=\"sk-text-repr-fallback\"><pre>Pipeline(steps=[(&#x27;scaler&#x27;, MinMaxScaler()),\n",
       "                (&#x27;linear_regression&#x27;,\n",
       "                 &lt;__main__.Linear_Regression object at 0x152c101d0&gt;)])</pre><b>In a Jupyter environment, please rerun this cell to show the HTML representation or trust the notebook. <br />On GitHub, the HTML representation is unable to render, please try loading this page with nbviewer.org.</b></div><div class=\"sk-container\" hidden><div class=\"sk-item sk-dashed-wrapped\"><div class=\"sk-label-container\"><div class=\"sk-label sk-toggleable\"><input class=\"sk-toggleable__control sk-hidden--visually\" id=\"sk-estimator-id-1\" type=\"checkbox\" ><label for=\"sk-estimator-id-1\" class=\"sk-toggleable__label sk-toggleable__label-arrow\">Pipeline</label><div class=\"sk-toggleable__content\"><pre>Pipeline(steps=[(&#x27;scaler&#x27;, MinMaxScaler()),\n",
       "                (&#x27;linear_regression&#x27;,\n",
       "                 &lt;__main__.Linear_Regression object at 0x152c101d0&gt;)])</pre></div></div></div><div class=\"sk-serial\"><div class=\"sk-item\"><div class=\"sk-estimator sk-toggleable\"><input class=\"sk-toggleable__control sk-hidden--visually\" id=\"sk-estimator-id-2\" type=\"checkbox\" ><label for=\"sk-estimator-id-2\" class=\"sk-toggleable__label sk-toggleable__label-arrow\">MinMaxScaler</label><div class=\"sk-toggleable__content\"><pre>MinMaxScaler()</pre></div></div></div><div class=\"sk-item\"><div class=\"sk-estimator sk-toggleable\"><input class=\"sk-toggleable__control sk-hidden--visually\" id=\"sk-estimator-id-3\" type=\"checkbox\" ><label for=\"sk-estimator-id-3\" class=\"sk-toggleable__label sk-toggleable__label-arrow\">Linear_Regression</label><div class=\"sk-toggleable__content\"><pre>&lt;__main__.Linear_Regression object at 0x152c101d0&gt;</pre></div></div></div></div></div></div></div>"
      ],
      "text/plain": [
       "Pipeline(steps=[('scaler', MinMaxScaler()),\n",
       "                ('linear_regression',\n",
       "                 <__main__.Linear_Regression object at 0x152c101d0>)])"
      ]
     },
     "execution_count": 10,
     "metadata": {},
     "output_type": "execute_result"
    }
   ],
   "source": [
    "LR_base.fit(X_train,y_train)"
   ]
  },
  {
   "cell_type": "markdown",
   "id": "05601417",
   "metadata": {},
   "source": [
    "<h1> Evaluating </h1>"
   ]
  },
  {
   "cell_type": "code",
   "execution_count": 11,
   "id": "2e23fc80",
   "metadata": {},
   "outputs": [],
   "source": [
    "def evaluate(y_true, y_hat, label='test'):\n",
    "    mse = mean_squared_error(y_true, y_hat)\n",
    "    rmse = np.sqrt(mse)\n",
    "    mae = mean_absolute_error(y_true, y_hat)\n",
    "    variance = r2_score(y_true, y_hat)\n",
    "    print('{} set RMSE:{}, R2:{}, MAE:{}'.format(label, rmse, variance, mae))"
   ]
  },
  {
   "cell_type": "code",
   "execution_count": 12,
   "id": "aecab823",
   "metadata": {},
   "outputs": [
    {
     "name": "stdout",
     "output_type": "stream",
     "text": [
      "test set RMSE:56.21369374811473, R2:0.3389774680729476, MAE:45.76294303919743\n",
      "test set RMSE:55.467906989356194, R2:0.3397896928050047, MAE:44.98937243573971\n"
     ]
    }
   ],
   "source": [
    "pred_train = LR_base.predict(X_train)\n",
    "evaluate(y_train, pred_train)\n",
    "\n",
    "pred_test = LR_base.predict(X_test)\n",
    "evaluate(y_test, pred_test)"
   ]
  },
  {
   "cell_type": "code",
   "execution_count": 13,
   "id": "d0a14e92",
   "metadata": {},
   "outputs": [
    {
     "data": {
      "text/plain": [
       "<matplotlib.collections.PathCollection at 0x15317c450>"
      ]
     },
     "execution_count": 13,
     "metadata": {},
     "output_type": "execute_result"
    },
    {
     "data": {
      "image/png": "[encoded data removed]",
      "text/plain": [
       "<Figure size 640x480 with 1 Axes>"
      ]
     },
     "metadata": {},
     "output_type": "display_data"
    }
   ],
   "source": [
    "plt.scatter(pred_train, y_train)"
   ]
  },
  {
   "cell_type": "code",
   "execution_count": 14,
   "id": "34e4f510",
   "metadata": {},
   "outputs": [
    {
     "data": {
      "text/plain": [
       "<matplotlib.collections.PathCollection at 0x1531baa50>"
      ]
     },
     "execution_count": 14,
     "metadata": {},
     "output_type": "execute_result"
    },
    {
     "data": {
      "image/png": "[encoded data removed]",
      "text/plain": [
       "<Figure size 640x480 with 1 Axes>"
      ]
     },
     "metadata": {},
     "output_type": "display_data"
    }
   ],
   "source": [
    "plt.scatter(pred_test, y_test)"
   ]
  },
  {
   "cell_type": "code",
   "execution_count": 16,
   "id": "ce914578",
   "metadata": {},
   "outputs": [
    {
     "data": {
      "image/png": "[encoded data removed]",
      "text/plain": [
       "<Figure size 640x480 with 1 Axes>"
      ]
     },
     "metadata": {},
     "output_type": "display_data"
    }
   ],
   "source": [
    "y_test.reset_index(drop=True, inplace=True)\n",
    "\n",
    "preds = pd.Series(LR_base.predict(X_test))\n",
    "\n",
    "errors = y_test - preds\n",
    "errors.hist(bins=30)\n",
    "plt.show()"
   ]
  },
  {
   "cell_type": "code",
   "execution_count": null,
   "id": "dadaccda",
   "metadata": {},
   "outputs": [],
   "source": [
    "save_path = \"../backend/\"\n",
    "\n",
    "# Serialize the trained model to a file in the specified location\n",
    "#joblib.dump(LR_base, save_path + 'LR_base.pkl')"
   ]
  },
  {
   "cell_type": "markdown",
   "id": "27be0d96",
   "metadata": {},
   "source": [
    "<h1> Scoring new data </h1>"
   ]
  },
  {
   "cell_type": "code",
   "execution_count": null,
   "id": "d6e6d484",
   "metadata": {},
   "outputs": [],
   "source": [
    "X_valid = test.groupby('unit_number').last().reset_index().drop(columns=drop_labels)"
   ]
  },
  {
   "cell_type": "code",
   "execution_count": null,
   "id": "1e445e17",
   "metadata": {},
   "outputs": [],
   "source": [
    "new_pred = LR_base.predict(X_valid)\n",
    "evaluate(rul, new_pred, label = 'valid')"
   ]
  },
  {
   "cell_type": "code",
   "execution_count": null,
   "id": "e9d62b5d",
   "metadata": {},
   "outputs": [],
   "source": [
    "plt.scatter(rul, new_pred)\n",
    "plt.xlabel('True RUL')\n",
    "plt.ylabel('Predicted RUL')\n",
    "plt.title('Evaluation of RUL Predictions using RF')"
   ]
  },
  {
   "cell_type": "markdown",
   "id": "ef9066a7",
   "metadata": {},
   "source": [
    "<h2> Cross Validation </h2>"
   ]
  },
  {
   "cell_type": "code",
   "execution_count": 17,
   "id": "253b297f",
   "metadata": {},
   "outputs": [
    {
     "ename": "NameError",
     "evalue": "name 'KFold' is not defined",
     "output_type": "error",
     "traceback": [
      "\u001b[0;31m---------------------------------------------------------------------------\u001b[0m",
      "\u001b[0;31mNameError\u001b[0m                                 Traceback (most recent call last)",
      "Cell \u001b[0;32mIn[17], line 1\u001b[0m\n\u001b[0;32m----> 1\u001b[0m kf \u001b[38;5;241m=\u001b[39m KFold(n_splits\u001b[38;5;241m=\u001b[39m\u001b[38;5;241m5\u001b[39m, shuffle\u001b[38;5;241m=\u001b[39m\u001b[38;5;28;01mTrue\u001b[39;00m, random_state\u001b[38;5;241m=\u001b[39m\u001b[38;5;241m42\u001b[39m)\n\u001b[1;32m      3\u001b[0m \u001b[38;5;66;03m# Perform cross-validation on the training set\u001b[39;00m\n\u001b[1;32m      4\u001b[0m cv_predictions_train \u001b[38;5;241m=\u001b[39m cross_val_predict(LR_base, X_train, y_train, cv\u001b[38;5;241m=\u001b[39mkf)\n",
      "\u001b[0;31mNameError\u001b[0m: name 'KFold' is not defined"
     ]
    }
   ],
   "source": [
    "kf = KFold(n_splits=5, shuffle=True, random_state=42)\n",
    "\n",
    "# Perform cross-validation on the training set\n",
    "cv_predictions_train = cross_val_predict(LR_base, X_train, y_train, cv=kf)\n",
    "\n",
    "# Evaluate cross-validated predictions on training set\n",
    "evaluate(y_train, cv_predictions_train, label='cross-validation on training')\n",
    "\n",
    "# Fit the pipeline to the entire training set\n",
    "LR_base.fit(X_train, y_train)\n",
    "\n",
    "# Make predictions on the test set\n",
    "test_predictions = LR_base.predict(X_test)\n",
    "\n",
    "# Evaluate the model on the test set\n",
    "evaluate(y_test, test_predictions, label='test')"
   ]
  },
  {
   "cell_type": "code",
   "execution_count": null,
   "id": "9cafbf68",
   "metadata": {},
   "outputs": [],
   "source": []
  }
 ],
 "metadata": {
  "kernelspec": {
   "display_name": "Python 3 (ipykernel)",
   "language": "python",
   "name": "python3"
  },
  "language_info": {
   "codemirror_mode": {
    "name": "ipython",
    "version": 3
   },
   "file_extension": ".py",
   "mimetype": "text/x-python",
   "name": "python",
   "nbconvert_exporter": "python",
   "pygments_lexer": "ipython3",
   "version": "3.11.5"
  }
 },
 "nbformat": 4,
 "nbformat_minor": 5
}
