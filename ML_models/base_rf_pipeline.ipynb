{
 "cells": [
  {
   "cell_type": "markdown",
   "id": "844c7797",
   "metadata": {},
   "source": [
    "<h1> Building the ML Pipeline </h1>"
   ]
  },
  {
   "cell_type": "code",
   "execution_count": 1,
   "id": "38e419cc",
   "metadata": {},
   "outputs": [],
   "source": [
    "#data handling\n",
    "import pandas as pd\n",
    "import numpy as np\n",
    "\n",
    "#visualisation\n",
    "import matplotlib.pyplot as plt\n",
    "\n",
    "#dividing into train/test\n",
    "from sklearn.model_selection import train_test_split\n",
    "\n",
    "# feature scaling\n",
    "from sklearn.preprocessing import MinMaxScaler\n",
    "from sklearn.preprocessing import StandardScaler\n",
    "\n",
    "#model building\n",
    "from sklearn.ensemble import RandomForestRegressor\n",
    "\n",
    "#model evaluation\n",
    "from sklearn.metrics import r2_score, mean_squared_error, mean_absolute_error\n",
    "\n",
    "# to persist the model and the scaler\n",
    "import joblib\n",
    "\n",
    "# pipeline\n",
    "from sklearn.pipeline import Pipeline\n"
   ]
  },
  {
   "cell_type": "code",
   "execution_count": 2,
   "id": "3aa0e67a",
   "metadata": {},
   "outputs": [],
   "source": [
    "#defining feature names\n",
    "index_names = ['unit_number', 'time_cycles']\n",
    "setting_names = ['setting_1', 'setting_2', 'setting_3']\n",
    "sensor_names = ['s_{}'.format(i+1) for i in range(0,21)]\n",
    "col_names = index_names + setting_names + sensor_names"
   ]
  },
  {
   "cell_type": "code",
   "execution_count": 3,
   "id": "13331861",
   "metadata": {},
   "outputs": [],
   "source": [
    "train = pd.read_csv('../backend/CMAPSSData/train_FD001.txt',sep='\\s+',header=None,index_col=False,names=col_names)\n",
    "test = pd.read_csv('../backend/CMAPSSData/test_FD001.txt',sep='\\s+',header=None,index_col=False,names=col_names)\n",
    "rul = pd.read_csv('../backend/CMAPSSDATA/RUL_FD001.txt',sep='\\s+',header=None,index_col=False,names=['RUL'])"
   ]
  },
  {
   "cell_type": "code",
   "execution_count": 4,
   "id": "d5528e61",
   "metadata": {},
   "outputs": [],
   "source": [
    "def add_RUL_column(df):\n",
    "    \n",
    "    #get total number of cycles for each unit\n",
    "    train_grouped_by_unit = df.groupby(by='unit_number') \n",
    "    max_time_cycles = train_grouped_by_unit['time_cycles'].max() \n",
    "    \n",
    "    #merge the max cycle back into original frame\n",
    "    merged = df.merge(max_time_cycles.to_frame(name='max_time_cycle'), left_on='unit_number',right_index=True)\n",
    "    \n",
    "    #calculate remaining useful life for each row\n",
    "    merged[\"RUL\"] = merged[\"max_time_cycle\"] - merged['time_cycles']\n",
    "    \n",
    "    #drop max cycle as it's no longer needed\n",
    "    merged = merged.drop(\"max_time_cycle\", axis=1) \n",
    "    return merged"
   ]
  },
  {
   "cell_type": "code",
   "execution_count": 5,
   "id": "db182560",
   "metadata": {},
   "outputs": [],
   "source": [
    "train = add_RUL_column(train)"
   ]
  },
  {
   "cell_type": "code",
   "execution_count": 6,
   "id": "95178c91",
   "metadata": {},
   "outputs": [
    {
     "data": {
      "text/plain": [
       "{'s_1': '(Fan inlet temperature) (◦R)',\n",
       " 's_2': '(LPC outlet temperature) (◦R)',\n",
       " 's_3': '(HPC outlet temperature) (◦R)',\n",
       " 's_4': '(LPT outlet temperature) (◦R)',\n",
       " 's_5': '(Fan inlet Pressure) (psia)',\n",
       " 's_6': '(bypass-duct pressure) (psia)',\n",
       " 's_7': '(HPC outlet pressure) (psia)',\n",
       " 's_8': '(Physical fan speed) (rpm)',\n",
       " 's_9': '(Physical core speed) (rpm)',\n",
       " 's_10': '(Engine pressure ratio(P50/P2)',\n",
       " 's_11': '(HPC outlet Static pressure) (psia)',\n",
       " 's_12': '(Ratio of fuel flow to Ps30) (pps/psia)',\n",
       " 's_13': '(Corrected fan speed) (rpm)',\n",
       " 's_14': '(Corrected core speed) (rpm)',\n",
       " 's_15': '(Bypass Ratio) ',\n",
       " 's_16': '(Burner fuel-air ratio)',\n",
       " 's_17': '(Bleed Enthalpy)',\n",
       " 's_18': '(Required fan speed)',\n",
       " 's_19': '(Required fan conversion speed)',\n",
       " 's_20': '(High-pressure turbines Cool air flow)',\n",
       " 's_21': '(Low-pressure turbines Cool air flow)'}"
      ]
     },
     "execution_count": 6,
     "metadata": {},
     "output_type": "execute_result"
    }
   ],
   "source": [
    "Sensor_dictionary={}\n",
    "dict_list=[ \"(Fan inlet temperature) (◦R)\",\n",
    "\"(LPC outlet temperature) (◦R)\",\n",
    "\"(HPC outlet temperature) (◦R)\",\n",
    "\"(LPT outlet temperature) (◦R)\",\n",
    "\"(Fan inlet Pressure) (psia)\",\n",
    "\"(bypass-duct pressure) (psia)\",\n",
    "\"(HPC outlet pressure) (psia)\",\n",
    "\"(Physical fan speed) (rpm)\",\n",
    "\"(Physical core speed) (rpm)\",\n",
    "\"(Engine pressure ratio(P50/P2)\",\n",
    "\"(HPC outlet Static pressure) (psia)\",\n",
    "\"(Ratio of fuel flow to Ps30) (pps/psia)\",\n",
    "\"(Corrected fan speed) (rpm)\",\n",
    "\"(Corrected core speed) (rpm)\",\n",
    "\"(Bypass Ratio) \",\n",
    "\"(Burner fuel-air ratio)\",\n",
    "\"(Bleed Enthalpy)\",\n",
    "\"(Required fan speed)\",\n",
    "\"(Required fan conversion speed)\",\n",
    "\"(High-pressure turbines Cool air flow)\",\n",
    "\"(Low-pressure turbines Cool air flow)\" ]\n",
    "i=1\n",
    "for x in dict_list :\n",
    "    Sensor_dictionary['s_'+str(i)]=x\n",
    "    i+=1\n",
    "Sensor_dictionary"
   ]
  },
  {
   "cell_type": "code",
   "execution_count": 7,
   "id": "d30570e9",
   "metadata": {},
   "outputs": [],
   "source": [
    "drop_labels = index_names+setting_names\n",
    "X_train=train.drop(columns=drop_labels).copy()\n",
    "X_train, X_test, y_train, y_test=train_test_split(\n",
    "    X_train.drop('RUL', axis=1), #predictor\n",
    "    X_train['RUL'], #target\n",
    "    test_size=0.3, #split\n",
    "    random_state=0) #set seed for reproducibility"
   ]
  },
  {
   "cell_type": "markdown",
   "id": "ce22d1d9",
   "metadata": {},
   "source": [
    "<h1> Pipeline </h1>"
   ]
  },
  {
   "cell_type": "code",
   "execution_count": 8,
   "id": "5ea70f7a",
   "metadata": {},
   "outputs": [],
   "source": [
    "base_rf_pipe = Pipeline([\n",
    "    ('scaler', StandardScaler()),\n",
    "    ('random_forest', RandomForestRegressor(random_state=0)),\n",
    "])"
   ]
  },
  {
   "cell_type": "code",
   "execution_count": null,
   "id": "d1246bb9",
   "metadata": {},
   "outputs": [],
   "source": [
    "base_rf_pipe.fit(X_train,y_train)"
   ]
  },
  {
   "cell_type": "markdown",
   "id": "05601417",
   "metadata": {},
   "source": [
    "<h1> Evaluating </h1>"
   ]
  },
  {
   "cell_type": "code",
   "execution_count": null,
   "id": "2e23fc80",
   "metadata": {},
   "outputs": [],
   "source": [
    "def evaluate(y_true, y_hat, label='test'):\n",
    "    mse = mean_squared_error(y_true, y_hat)\n",
    "    rmse = np.sqrt(mse)\n",
    "    mae = mean_absolute_error(y_true, y_hat)\n",
    "    variance = r2_score(y_true, y_hat)\n",
    "    print('{} set RMSE:{}, R2:{}, MAE:{}'.format(label, rmse, variance, mae))"
   ]
  },
  {
   "cell_type": "code",
   "execution_count": null,
   "id": "aecab823",
   "metadata": {},
   "outputs": [],
   "source": [
    "pred_train = base_rf_pipe.predict(X_train)\n",
    "evaluate(y_train, pred_train)\n",
    "\n",
    "pred_test = base_rf_pipe.predict(X_test)\n",
    "evaluate(y_test, pred_test)"
   ]
  },
  {
   "cell_type": "code",
   "execution_count": null,
   "id": "d0a14e92",
   "metadata": {},
   "outputs": [],
   "source": [
    "plt.scatter(pred_train, y_train)"
   ]
  },
  {
   "cell_type": "code",
   "execution_count": null,
   "id": "34e4f510",
   "metadata": {},
   "outputs": [],
   "source": [
    "plt.scatter(pred_test, y_test)"
   ]
  },
  {
   "cell_type": "code",
   "execution_count": null,
   "id": "ce914578",
   "metadata": {},
   "outputs": [],
   "source": [
    "y_test.reset_index(drop=True, inplace=True)\n",
    "\n",
    "preds = pd.Series(base_rf_pipe.predict(X_test))\n",
    "\n",
    "errors = y_test - preds\n",
    "errors.hist(bins=30)\n",
    "plt.show()"
   ]
  },
  {
   "cell_type": "code",
   "execution_count": null,
   "id": "dadaccda",
   "metadata": {},
   "outputs": [],
   "source": [
    "#joblib.dump(base_rf_pipe, 'base_rf_pipe.joblib') "
   ]
  },
  {
   "cell_type": "markdown",
   "id": "27be0d96",
   "metadata": {},
   "source": [
    "<h1> Scoring new data </h1>"
   ]
  },
  {
   "cell_type": "code",
   "execution_count": null,
   "id": "d6e6d484",
   "metadata": {},
   "outputs": [],
   "source": [
    "X_valid = test.groupby('unit_number').last().reset_index().drop(columns=drop_labels)"
   ]
  },
  {
   "cell_type": "code",
   "execution_count": null,
   "id": "1e445e17",
   "metadata": {},
   "outputs": [],
   "source": [
    "new_pred = base_rf_pipe.predict(X_valid)\n",
    "evaluate(rul, new_pred, label = 'valid')"
   ]
  },
  {
   "cell_type": "code",
   "execution_count": null,
   "id": "e9d62b5d",
   "metadata": {},
   "outputs": [],
   "source": [
    "plt.scatter(rul, new_pred)\n",
    "plt.xlabel('True RUL')\n",
    "plt.ylabel('Predicted RUL')\n",
    "plt.title('Evaluation of RUL Predictions using RF')"
   ]
  },
  {
   "cell_type": "code",
   "execution_count": null,
   "id": "ac3dc7c1",
   "metadata": {},
   "outputs": [],
   "source": []
  }
 ],
 "metadata": {
  "kernelspec": {
   "display_name": "Python 3 (ipykernel)",
   "language": "python",
   "name": "python3"
  },
  "language_info": {
   "codemirror_mode": {
    "name": "ipython",
    "version": 3
   },
   "file_extension": ".py",
   "mimetype": "text/x-python",
   "name": "python",
   "nbconvert_exporter": "python",
   "pygments_lexer": "ipython3",
   "version": "3.11.5"
  }
 },
 "nbformat": 4,
 "nbformat_minor": 5
}
